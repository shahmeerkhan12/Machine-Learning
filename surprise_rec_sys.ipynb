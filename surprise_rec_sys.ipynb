{
  "nbformat": 4,
  "nbformat_minor": 0,
  "metadata": {
    "colab": {
      "provenance": [],
      "authorship_tag": "ABX9TyPp/HyFPcpYUKv2BYOw0Spu",
      "include_colab_link": true
    },
    "kernelspec": {
      "name": "python3",
      "display_name": "Python 3"
    },
    "language_info": {
      "name": "python"
    }
  },
  "cells": [
    {
      "cell_type": "markdown",
      "metadata": {
        "id": "view-in-github",
        "colab_type": "text"
      },
      "source": [
        "<a href=\"https://colab.research.google.com/github/shahmeerkhan12/Machine-Learning/blob/main/surprise_rec_sys.ipynb\" target=\"_parent\"><img src=\"https://colab.research.google.com/assets/colab-badge.svg\" alt=\"Open In Colab\"/></a>"
      ]
    },
    {
      "cell_type": "code",
      "execution_count": null,
      "metadata": {
        "id": "IeqoYN1uKFZu"
      },
      "outputs": [],
      "source": [
        "import pandas as pd\n",
        "import codecademylib3\n",
        "from surprise import Reader\n",
        "\n",
        "book_ratings = pd.read_csv('goodreads_ratings.csv')\n",
        "print(book_ratings.head())\n",
        "\n",
        "#1. Print dataset size and examine column data types\n",
        "print(book_ratings.head(5))\n",
        "print(book_ratings.describe())\n",
        "#2. Distribution of ratings\n",
        "print(book_ratings['rating'].value_counts())\n",
        "#3. Filter ratings that are out of range\n",
        "filtered_ratings = book_ratings[\n",
        "  (book_ratings['rating']>=1) & (book_ratings['rating']<=5)\n",
        "]\n",
        "# print('original rows rating count',len(book_ratings['rating']))\n",
        "# print('filtered rows rating count',len(filtered_ratings['rating']))\n",
        "book_ratings = filtered_ratings\n",
        "#4. Prepare data for surprise: build a Suprise reader object\n",
        "from surprise import Reader\n",
        "reader = Reader(rating_scale=(1,5))\n",
        "#5. Load `book_ratings` into a Surprise Dataset\n",
        "from surprise import Dataset\n",
        "dataset = Dataset.load_from_df(book_ratings[['user_id','book_id','rating']],reader)\n",
        "#6. Create a 80:20 train-test split and set the random state to 7\n",
        "from surprise.model_selection import train_test_split\n",
        "trainset, testset = train_test_split(dataset, test_size = 0.2, random_state=7)\n",
        "#7. Use KNNBasice from Surprise to train a collaborative filter\n",
        "from surprise import KNNBasic\n",
        "model = KNNBasic(k=30,sim_options={'name':'cosine','user_based':True})\n",
        "model.fit(trainset)\n",
        "\n",
        "\n",
        "#8. Evaluate the recommender system\n",
        "from surprise import accuracy\n",
        "prediction = model.test(testset)\n",
        "accuracy.rmse(prediction)\n",
        "accuracy.mae(prediction)\n",
        "#9. Prediction on a user who gave the \"The Three-Body Problem\" a rating of 5\n",
        "print(model.predict('8842281e1d1347389f2ab93d60773d4d','correct_book_id').est)"
      ]
    },
    {
      "cell_type": "markdown",
      "source": [],
      "metadata": {
        "id": "OowNDfOdKJKm"
      }
    }
  ]
}