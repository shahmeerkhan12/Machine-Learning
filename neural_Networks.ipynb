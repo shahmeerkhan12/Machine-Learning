{
  "nbformat": 4,
  "nbformat_minor": 0,
  "metadata": {
    "colab": {
      "provenance": [],
      "authorship_tag": "ABX9TyPke5s/GrFGbQ+Zd++qator",
      "include_colab_link": true
    },
    "kernelspec": {
      "name": "python3",
      "display_name": "Python 3"
    },
    "language_info": {
      "name": "python"
    }
  },
  "cells": [
    {
      "cell_type": "markdown",
      "metadata": {
        "id": "view-in-github",
        "colab_type": "text"
      },
      "source": [
        "<a href=\"https://colab.research.google.com/github/shahmeerkhan12/Machine-Learning/blob/main/neural_Networks.ipynb\" target=\"_parent\"><img src=\"https://colab.research.google.com/assets/colab-badge.svg\" alt=\"Open In Colab\"/></a>"
      ]
    },
    {
      "cell_type": "code",
      "execution_count": 6,
      "metadata": {
        "id": "oarpeeF8T22b",
        "colab": {
          "base_uri": "https://localhost:8080/"
        },
        "outputId": "d76df8c3-1631-4e00-900e-ab6928d5ca5a"
      },
      "outputs": [
        {
          "output_type": "stream",
          "name": "stdout",
          "text": [
            "[[ 0.17640523  0.04001572  0.0978738 ]\n",
            " [ 0.22408932  0.1867558  -0.09772779]\n",
            " [ 0.09500884 -0.01513572 -0.01032189]]\n"
          ]
        }
      ],
      "source": [
        "import numpy as np\n",
        "\n",
        "np.random.seed(0)\n",
        "\n",
        "X = [[1, 2.1, 2, 2.2],\n",
        "     [2, 1, 2.3, 1.2],\n",
        "     [1, 2, 3, 2.5]]\n",
        "\n",
        "class layer_dense:\n",
        "  # for initialization specify the inputs_shape, and the number of the neurons( neurons can be any count)\n",
        "  def __init__(self, n_inputs, n_neurons):\n",
        "    self.weights = 0.1*np.random.randn(n_inputs,n_neurons)\n",
        "    self.bias = np.zeros((1,n_neurons))\n",
        "  def forward(self):\n",
        "    pass\n",
        "\n",
        "# print(0.1*np.random.randn(3,3))\n",
        "\n"
      ]
    }
  ]
}