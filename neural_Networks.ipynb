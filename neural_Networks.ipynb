{
  "nbformat": 4,
  "nbformat_minor": 0,
  "metadata": {
    "colab": {
      "provenance": [],
      "authorship_tag": "ABX9TyOK+OtpLjrzDZLLqoel/EW8",
      "include_colab_link": true
    },
    "kernelspec": {
      "name": "python3",
      "display_name": "Python 3"
    },
    "language_info": {
      "name": "python"
    }
  },
  "cells": [
    {
      "cell_type": "markdown",
      "metadata": {
        "id": "view-in-github",
        "colab_type": "text"
      },
      "source": [
        "<a href=\"https://colab.research.google.com/github/shahmeerkhan12/Machine-Learning/blob/main/neural_Networks.ipynb\" target=\"_parent\"><img src=\"https://colab.research.google.com/assets/colab-badge.svg\" alt=\"Open In Colab\"/></a>"
      ]
    },
    {
      "cell_type": "code",
      "execution_count": 5,
      "metadata": {
        "id": "oarpeeF8T22b",
        "colab": {
          "base_uri": "https://localhost:8080/"
        },
        "outputId": "73d91d71-e879-4c53-9a20-069917b8fc30"
      },
      "outputs": [
        {
          "output_type": "stream",
          "name": "stdout",
          "text": [
            "[[0.07339395 0.85908639 0.17316151 0.29562326 0.17385307]\n",
            " [0.32825362 0.68881268 0.33103156 0.50341013 0.4141685 ]\n",
            " [0.10758131 1.03983522 0.24462411 0.31821498 0.18851053]]\n",
            "\n",
            "[[ 0.12282912 -0.06413357]\n",
            " [ 0.11666311 -0.02637691]\n",
            " [ 0.148296   -0.08397602]]\n"
          ]
        }
      ],
      "source": [
        "import numpy as np\n",
        "\n",
        "np.random.seed(0)\n",
        "\n",
        "X = [[1, 2.1, 2, 2.2],\n",
        "     [2, 1, 2.3, 1.2],\n",
        "     [1, 2, 3, 2.5]]\n",
        "\n",
        "class layer_dense:\n",
        "  # for initialization specify the inputs_shape, and the number of the neurons( neurons can be any count)\n",
        "  def __init__(self, n_inputs, n_neurons):\n",
        "    self.weights = 0.1*np.random.randn(n_inputs,n_neurons)\n",
        "    self.biases = np.zeros((1,n_neurons))\n",
        "  def forward(self,inputs):\n",
        "    self.output = np.dot(inputs,self.weights) + self.biases\n",
        "\n",
        "layer1 = layer_dense(4,5)\n",
        "layer2 = layer_dense(5,2)\n",
        "\n",
        "layer1.forward(X)\n",
        "layer2.forward(layer1.output)\n",
        "\n",
        "print(layer1.output)\n",
        "print()\n",
        "print(layer2.output)\n",
        "\n",
        "\n",
        "\n"
      ]
    }
  ]
}