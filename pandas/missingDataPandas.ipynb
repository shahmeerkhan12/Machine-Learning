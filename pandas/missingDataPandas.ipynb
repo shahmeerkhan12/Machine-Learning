{
 "cells": [
  {
   "cell_type": "code",
   "execution_count": 2,
   "id": "69519fc6-27b7-46ae-8e8a-2c977ab9127f",
   "metadata": {},
   "outputs": [],
   "source": [
    "import pandas as pd"
   ]
  },
  {
   "cell_type": "code",
   "execution_count": 3,
   "id": "678f1fc1-f328-4de0-8eef-69f6e96250f2",
   "metadata": {},
   "outputs": [],
   "source": [
    "missingValues= pd.read_csv('sample_csv.txt')"
   ]
  },
  {
   "cell_type": "code",
   "execution_count": 3,
   "id": "9df3ba8c-05ab-423a-81c7-4b69925a2a51",
   "metadata": {},
   "outputs": [
    {
     "data": {
      "text/html": [
       "<div>\n",
       "<style scoped>\n",
       "    .dataframe tbody tr th:only-of-type {\n",
       "        vertical-align: middle;\n",
       "    }\n",
       "\n",
       "    .dataframe tbody tr th {\n",
       "        vertical-align: top;\n",
       "    }\n",
       "\n",
       "    .dataframe thead th {\n",
       "        text-align: right;\n",
       "    }\n",
       "</style>\n",
       "<table border=\"1\" class=\"dataframe\">\n",
       "  <thead>\n",
       "    <tr style=\"text-align: right;\">\n",
       "      <th></th>\n",
       "      <th>electonic</th>\n",
       "      <th>grocery</th>\n",
       "      <th>food-items</th>\n",
       "      <th>Price</th>\n",
       "    </tr>\n",
       "  </thead>\n",
       "  <tbody>\n",
       "    <tr>\n",
       "      <th>0</th>\n",
       "      <td>mobiles</td>\n",
       "      <td>detergents</td>\n",
       "      <td>chicken</td>\n",
       "      <td>15.0</td>\n",
       "    </tr>\n",
       "    <tr>\n",
       "      <th>1</th>\n",
       "      <td>desktops</td>\n",
       "      <td>fruits</td>\n",
       "      <td>spagetti</td>\n",
       "      <td>NaN</td>\n",
       "    </tr>\n",
       "    <tr>\n",
       "      <th>2</th>\n",
       "      <td>laptops</td>\n",
       "      <td>vigitables</td>\n",
       "      <td>juice</td>\n",
       "      <td>30.0</td>\n",
       "    </tr>\n",
       "    <tr>\n",
       "      <th>3</th>\n",
       "      <td>tablets</td>\n",
       "      <td>drinks</td>\n",
       "      <td>spinach</td>\n",
       "      <td>NaN</td>\n",
       "    </tr>\n",
       "    <tr>\n",
       "      <th>4</th>\n",
       "      <td>headphones</td>\n",
       "      <td>toys</td>\n",
       "      <td>salad</td>\n",
       "      <td>NaN</td>\n",
       "    </tr>\n",
       "    <tr>\n",
       "      <th>5</th>\n",
       "      <td>router</td>\n",
       "      <td>medicine</td>\n",
       "      <td>rice</td>\n",
       "      <td>90.0</td>\n",
       "    </tr>\n",
       "  </tbody>\n",
       "</table>\n",
       "</div>"
      ],
      "text/plain": [
       "    electonic     grocery food-items  Price\n",
       "0     mobiles  detergents    chicken   15.0\n",
       "1    desktops      fruits   spagetti    NaN\n",
       "2     laptops  vigitables      juice   30.0\n",
       "3     tablets      drinks    spinach    NaN\n",
       "4  headphones        toys      salad    NaN\n",
       "5      router    medicine       rice   90.0"
      ]
     },
     "execution_count": 3,
     "metadata": {},
     "output_type": "execute_result"
    }
   ],
   "source": [
    "missingValues"
   ]
  },
  {
   "cell_type": "markdown",
   "id": "c472f273-ed60-4179-a61b-3617e6668d12",
   "metadata": {},
   "source": [
    "How to Handle the upper missing values in the Price col\n",
    "method used is fillnan"
   ]
  },
  {
   "cell_type": "code",
   "execution_count": 4,
   "id": "5fa828fa-f990-41c5-8e90-448acc103ff8",
   "metadata": {},
   "outputs": [
    {
     "data": {
      "text/plain": [
       "np.float64(45.0)"
      ]
     },
     "execution_count": 4,
     "metadata": {},
     "output_type": "execute_result"
    }
   ],
   "source": [
    "missingValues['Price'].mean()"
   ]
  },
  {
   "cell_type": "code",
   "execution_count": 7,
   "id": "68315cec-0950-4173-8d62-12bca1108b5b",
   "metadata": {},
   "outputs": [],
   "source": [
    "missingValues['Price']= missingValues['Price'].fillna(missingValues['Price'].mean())"
   ]
  },
  {
   "cell_type": "code",
   "execution_count": 8,
   "id": "6a789ed4-a897-41ef-850d-f0f775a647ed",
   "metadata": {},
   "outputs": [
    {
     "data": {
      "text/html": [
       "<div>\n",
       "<style scoped>\n",
       "    .dataframe tbody tr th:only-of-type {\n",
       "        vertical-align: middle;\n",
       "    }\n",
       "\n",
       "    .dataframe tbody tr th {\n",
       "        vertical-align: top;\n",
       "    }\n",
       "\n",
       "    .dataframe thead th {\n",
       "        text-align: right;\n",
       "    }\n",
       "</style>\n",
       "<table border=\"1\" class=\"dataframe\">\n",
       "  <thead>\n",
       "    <tr style=\"text-align: right;\">\n",
       "      <th></th>\n",
       "      <th>electonic</th>\n",
       "      <th>grocery</th>\n",
       "      <th>food-items</th>\n",
       "      <th>Price</th>\n",
       "    </tr>\n",
       "  </thead>\n",
       "  <tbody>\n",
       "    <tr>\n",
       "      <th>0</th>\n",
       "      <td>mobiles</td>\n",
       "      <td>detergents</td>\n",
       "      <td>chicken</td>\n",
       "      <td>15.0</td>\n",
       "    </tr>\n",
       "    <tr>\n",
       "      <th>1</th>\n",
       "      <td>desktops</td>\n",
       "      <td>fruits</td>\n",
       "      <td>spagetti</td>\n",
       "      <td>45.0</td>\n",
       "    </tr>\n",
       "    <tr>\n",
       "      <th>2</th>\n",
       "      <td>laptops</td>\n",
       "      <td>vigitables</td>\n",
       "      <td>juice</td>\n",
       "      <td>30.0</td>\n",
       "    </tr>\n",
       "    <tr>\n",
       "      <th>3</th>\n",
       "      <td>tablets</td>\n",
       "      <td>drinks</td>\n",
       "      <td>spinach</td>\n",
       "      <td>45.0</td>\n",
       "    </tr>\n",
       "    <tr>\n",
       "      <th>4</th>\n",
       "      <td>headphones</td>\n",
       "      <td>toys</td>\n",
       "      <td>salad</td>\n",
       "      <td>45.0</td>\n",
       "    </tr>\n",
       "    <tr>\n",
       "      <th>5</th>\n",
       "      <td>router</td>\n",
       "      <td>medicine</td>\n",
       "      <td>rice</td>\n",
       "      <td>90.0</td>\n",
       "    </tr>\n",
       "  </tbody>\n",
       "</table>\n",
       "</div>"
      ],
      "text/plain": [
       "    electonic     grocery food-items  Price\n",
       "0     mobiles  detergents    chicken   15.0\n",
       "1    desktops      fruits   spagetti   45.0\n",
       "2     laptops  vigitables      juice   30.0\n",
       "3     tablets      drinks    spinach   45.0\n",
       "4  headphones        toys      salad   45.0\n",
       "5      router    medicine       rice   90.0"
      ]
     },
     "execution_count": 8,
     "metadata": {},
     "output_type": "execute_result"
    }
   ],
   "source": [
    "missingValues"
   ]
  },
  {
   "cell_type": "markdown",
   "id": "a03d962b-d2af-4c96-9e54-c4cf8eeb789f",
   "metadata": {},
   "source": [
    "pandas can also drop the nan values: for example "
   ]
  },
  {
   "cell_type": "code",
   "execution_count": 4,
   "id": "75eb4e8b-124f-41f0-92d1-21bf364dc143",
   "metadata": {},
   "outputs": [
    {
     "data": {
      "text/html": [
       "<div>\n",
       "<style scoped>\n",
       "    .dataframe tbody tr th:only-of-type {\n",
       "        vertical-align: middle;\n",
       "    }\n",
       "\n",
       "    .dataframe tbody tr th {\n",
       "        vertical-align: top;\n",
       "    }\n",
       "\n",
       "    .dataframe thead th {\n",
       "        text-align: right;\n",
       "    }\n",
       "</style>\n",
       "<table border=\"1\" class=\"dataframe\">\n",
       "  <thead>\n",
       "    <tr style=\"text-align: right;\">\n",
       "      <th></th>\n",
       "      <th>electonic</th>\n",
       "      <th>grocery</th>\n",
       "      <th>food-items</th>\n",
       "      <th>Price</th>\n",
       "    </tr>\n",
       "  </thead>\n",
       "  <tbody>\n",
       "    <tr>\n",
       "      <th>0</th>\n",
       "      <td>mobiles</td>\n",
       "      <td>detergents</td>\n",
       "      <td>chicken</td>\n",
       "      <td>15.0</td>\n",
       "    </tr>\n",
       "    <tr>\n",
       "      <th>2</th>\n",
       "      <td>laptops</td>\n",
       "      <td>vigitables</td>\n",
       "      <td>juice</td>\n",
       "      <td>30.0</td>\n",
       "    </tr>\n",
       "    <tr>\n",
       "      <th>5</th>\n",
       "      <td>router</td>\n",
       "      <td>medicine</td>\n",
       "      <td>rice</td>\n",
       "      <td>90.0</td>\n",
       "    </tr>\n",
       "  </tbody>\n",
       "</table>\n",
       "</div>"
      ],
      "text/plain": [
       "  electonic     grocery food-items  Price\n",
       "0   mobiles  detergents    chicken   15.0\n",
       "2   laptops  vigitables      juice   30.0\n",
       "5    router    medicine       rice   90.0"
      ]
     },
     "execution_count": 4,
     "metadata": {},
     "output_type": "execute_result"
    }
   ],
   "source": [
    "#all the rows containing any nan wil be removed \n",
    "missingValues.dropna()"
   ]
  },
  {
   "cell_type": "markdown",
   "id": "bb891233-cf66-4ecb-83f9-c108ecc7b425",
   "metadata": {},
   "source": []
  }
 ],
 "metadata": {
  "kernelspec": {
   "display_name": "ML1",
   "language": "python",
   "name": "venv"
  },
  "language_info": {
   "codemirror_mode": {
    "name": "ipython",
    "version": 3
   },
   "file_extension": ".py",
   "mimetype": "text/x-python",
   "name": "python",
   "nbconvert_exporter": "python",
   "pygments_lexer": "ipython3",
   "version": "3.13.5"
  }
 },
 "nbformat": 4,
 "nbformat_minor": 5
}
