{
 "cells": [
  {
   "cell_type": "markdown",
   "id": "1a85e7b8-9d2a-4b9e-9878-6df2c283acd2",
   "metadata": {},
   "source": [
    "# Training and testing an Sciket learn model"
   ]
  },
  {
   "cell_type": "markdown",
   "id": "94ca8682-d90f-4393-9700-702e9a04a96c",
   "metadata": {},
   "source": [
    "## 1. loading and preparing the dataset(test and train dataset)"
   ]
  },
  {
   "cell_type": "code",
   "execution_count": 19,
   "id": "4ea272a5-dbfc-4b47-826f-66b2e0fd9464",
   "metadata": {},
   "outputs": [],
   "source": [
    "# import necesssary libraries\n",
    "import pandas as pd\n",
    "import numpy as np\n",
    "import matplotlib.pyplot as plt"
   ]
  },
  {
   "cell_type": "code",
   "execution_count": 20,
   "id": "8c63e477-840e-4cc5-b55b-b0d112fd4555",
   "metadata": {},
   "outputs": [
    {
     "data": {
      "text/html": [
       "<div>\n",
       "<style scoped>\n",
       "    .dataframe tbody tr th:only-of-type {\n",
       "        vertical-align: middle;\n",
       "    }\n",
       "\n",
       "    .dataframe tbody tr th {\n",
       "        vertical-align: top;\n",
       "    }\n",
       "\n",
       "    .dataframe thead th {\n",
       "        text-align: right;\n",
       "    }\n",
       "</style>\n",
       "<table border=\"1\" class=\"dataframe\">\n",
       "  <thead>\n",
       "    <tr style=\"text-align: right;\">\n",
       "      <th></th>\n",
       "      <th>Phone Name</th>\n",
       "      <th>Manufacturer</th>\n",
       "      <th>Storage</th>\n",
       "      <th>Memory</th>\n",
       "      <th>Price (USD)</th>\n",
       "      <th>Internet Network</th>\n",
       "      <th>Generation</th>\n",
       "    </tr>\n",
       "  </thead>\n",
       "  <tbody>\n",
       "    <tr>\n",
       "      <th>0</th>\n",
       "      <td>Galaxy S22 Ultra</td>\n",
       "      <td>Samsung</td>\n",
       "      <td>512GB</td>\n",
       "      <td>12GB</td>\n",
       "      <td>1099</td>\n",
       "      <td>5G</td>\n",
       "      <td>5</td>\n",
       "    </tr>\n",
       "    <tr>\n",
       "      <th>1</th>\n",
       "      <td>iPhone 14 Pro</td>\n",
       "      <td>Apple</td>\n",
       "      <td>256GB</td>\n",
       "      <td>6GB</td>\n",
       "      <td>999</td>\n",
       "      <td>5G</td>\n",
       "      <td>4</td>\n",
       "    </tr>\n",
       "    <tr>\n",
       "      <th>2</th>\n",
       "      <td>Pixel 7</td>\n",
       "      <td>Google</td>\n",
       "      <td>128GB</td>\n",
       "      <td>8GB</td>\n",
       "      <td>599</td>\n",
       "      <td>5G</td>\n",
       "      <td>3</td>\n",
       "    </tr>\n",
       "    <tr>\n",
       "      <th>3</th>\n",
       "      <td>OnePlus 10T</td>\n",
       "      <td>OnePlus</td>\n",
       "      <td>256GB</td>\n",
       "      <td>16GB</td>\n",
       "      <td>649</td>\n",
       "      <td>5G</td>\n",
       "      <td>5</td>\n",
       "    </tr>\n",
       "    <tr>\n",
       "      <th>4</th>\n",
       "      <td>Redmi Note 11</td>\n",
       "      <td>Xiaomi</td>\n",
       "      <td>128GB</td>\n",
       "      <td>4GB</td>\n",
       "      <td>249</td>\n",
       "      <td>4G LTE</td>\n",
       "      <td>6</td>\n",
       "    </tr>\n",
       "    <tr>\n",
       "      <th>5</th>\n",
       "      <td>Moto G Power</td>\n",
       "      <td>Motorola</td>\n",
       "      <td>64GB</td>\n",
       "      <td>4GB</td>\n",
       "      <td>199</td>\n",
       "      <td>4G LTE</td>\n",
       "      <td>7</td>\n",
       "    </tr>\n",
       "    <tr>\n",
       "      <th>6</th>\n",
       "      <td>Nokia G400</td>\n",
       "      <td>Nokia</td>\n",
       "      <td>128GB</td>\n",
       "      <td>6GB</td>\n",
       "      <td>299</td>\n",
       "      <td>5G</td>\n",
       "      <td>4</td>\n",
       "    </tr>\n",
       "    <tr>\n",
       "      <th>7</th>\n",
       "      <td>P50 Pro</td>\n",
       "      <td>Huawei</td>\n",
       "      <td>256GB</td>\n",
       "      <td>8GB</td>\n",
       "      <td>899</td>\n",
       "      <td>4G LTE</td>\n",
       "      <td>3</td>\n",
       "    </tr>\n",
       "    <tr>\n",
       "      <th>8</th>\n",
       "      <td>Oppo Find X5</td>\n",
       "      <td>Oppo</td>\n",
       "      <td>256GB</td>\n",
       "      <td>12GB</td>\n",
       "      <td>799</td>\n",
       "      <td>5G</td>\n",
       "      <td>6</td>\n",
       "    </tr>\n",
       "    <tr>\n",
       "      <th>9</th>\n",
       "      <td>Vivo X80</td>\n",
       "      <td>Vivo</td>\n",
       "      <td>512GB</td>\n",
       "      <td>12GB</td>\n",
       "      <td>749</td>\n",
       "      <td>5G</td>\n",
       "      <td>5</td>\n",
       "    </tr>\n",
       "  </tbody>\n",
       "</table>\n",
       "</div>"
      ],
      "text/plain": [
       "         Phone Name Manufacturer Storage Memory  Price (USD) Internet Network  \\\n",
       "0  Galaxy S22 Ultra      Samsung   512GB   12GB         1099               5G   \n",
       "1     iPhone 14 Pro        Apple   256GB    6GB          999               5G   \n",
       "2           Pixel 7       Google   128GB    8GB          599               5G   \n",
       "3       OnePlus 10T      OnePlus   256GB   16GB          649               5G   \n",
       "4     Redmi Note 11       Xiaomi   128GB    4GB          249           4G LTE   \n",
       "5      Moto G Power     Motorola    64GB    4GB          199           4G LTE   \n",
       "6        Nokia G400        Nokia   128GB    6GB          299               5G   \n",
       "7           P50 Pro       Huawei   256GB    8GB          899           4G LTE   \n",
       "8      Oppo Find X5         Oppo   256GB   12GB          799               5G   \n",
       "9          Vivo X80         Vivo   512GB   12GB          749               5G   \n",
       "\n",
       "   Generation  \n",
       "0           5  \n",
       "1           4  \n",
       "2           3  \n",
       "3           5  \n",
       "4           6  \n",
       "5           7  \n",
       "6           4  \n",
       "7           3  \n",
       "8           6  \n",
       "9           5  "
      ]
     },
     "execution_count": 20,
     "metadata": {},
     "output_type": "execute_result"
    }
   ],
   "source": [
    "phone_ds = pd.read_csv(\"./../phones.csv\")\n",
    "#add an extra column\n",
    "phone_ds[\"Generation\"] = np.array([5,4,3,5,6,7,4,3,6,5])\n",
    "phone_ds"
   ]
  },
  {
   "cell_type": "code",
   "execution_count": 11,
   "id": "4e6d448b-fa2d-462a-ac55-678347c8e5be",
   "metadata": {},
   "outputs": [],
   "source": [
    "phone_ds['Storage'] = phone_ds['Storage'].str.replace(\"GB\",\"\",regex=False).astype(int)"
   ]
  },
  {
   "cell_type": "code",
   "execution_count": 13,
   "id": "dcc89978-977b-478d-b5e1-c49a1058811b",
   "metadata": {},
   "outputs": [],
   "source": [
    "phone_ds['Memory'] = phone_ds['Memory'].str.replace(\"GB\",\"\",regex=False).astype(int)\n",
    "# method-2 for the same opeartion\n",
    "phone_ds['Memory'] = phone_ds['Memory'].str.replace(\"GB\",\"\",regex=False).astype(int)"
   ]
  },
  {
   "cell_type": "code",
   "execution_count": 14,
   "id": "96e04fd4-da1f-4930-807d-aa6d5d04d453",
   "metadata": {},
   "outputs": [
    {
     "data": {
      "text/plain": [
       "Phone Name          object\n",
       "Manufacturer        object\n",
       "Storage              int64\n",
       "Memory               int64\n",
       "Price (USD)          int64\n",
       "Internet Network    object\n",
       "dtype: object"
      ]
     },
     "execution_count": 14,
     "metadata": {},
     "output_type": "execute_result"
    }
   ],
   "source": [
    "phone_ds.dtypes"
   ]
  },
  {
   "cell_type": "markdown",
   "id": "0ba13d4c-0599-491d-837c-6251ef68cf46",
   "metadata": {},
   "source": [
    "### sklearn models donot train on datasets having String or Object Data types, if you try to train the upper dataset you will get error\n",
    "### so what we will do here is to encode the \"strings\" and \"object\" data types, using oneHotEncoding technique of SKLearn library"
   ]
  },
  {
   "cell_type": "code",
   "execution_count": null,
   "id": "437356e8-f8a2-4e13-8e89-8a9bb1a07976",
   "metadata": {},
   "outputs": [],
   "source": [
    "# import the desired model \n",
    "from sklearn.ensemble import RandomForestRegressor\n"
   ]
  }
 ],
 "metadata": {
  "kernelspec": {
   "display_name": "ML1",
   "language": "python",
   "name": "venv"
  },
  "language_info": {
   "codemirror_mode": {
    "name": "ipython",
    "version": 3
   },
   "file_extension": ".py",
   "mimetype": "text/x-python",
   "name": "python",
   "nbconvert_exporter": "python",
   "pygments_lexer": "ipython3",
   "version": "3.13.5"
  }
 },
 "nbformat": 4,
 "nbformat_minor": 5
}
