{
 "cells": [
  {
   "cell_type": "markdown",
   "id": "57a8da98-43e7-485e-87a4-b0ba7d8b6e52",
   "metadata": {},
   "source": [
    "# aggregation"
   ]
  },
  {
   "cell_type": "code",
   "execution_count": 1,
   "id": "4afec13d-b245-4fec-af20-f84103225352",
   "metadata": {},
   "outputs": [],
   "source": [
    "import numpy as np"
   ]
  },
  {
   "cell_type": "code",
   "execution_count": 5,
   "id": "e4e174da-3290-4027-8305-136f0be47291",
   "metadata": {},
   "outputs": [],
   "source": [
    "np.random.seed(0)\n",
    "matrix = np.random.random(1000)"
   ]
  },
  {
   "cell_type": "code",
   "execution_count": 8,
   "id": "87dce48d-6464-4826-b817-7a99da0efad6",
   "metadata": {},
   "outputs": [
    {
     "data": {
      "text/plain": [
       "array([0.5488135 , 0.71518937, 0.60276338, 0.54488318, 0.4236548 ,\n",
       "       0.64589411, 0.43758721, 0.891773  , 0.96366276, 0.38344152,\n",
       "       0.79172504, 0.52889492, 0.56804456, 0.92559664, 0.07103606,\n",
       "       0.0871293 , 0.0202184 , 0.83261985, 0.77815675, 0.87001215])"
      ]
     },
     "execution_count": 8,
     "metadata": {},
     "output_type": "execute_result"
    }
   ],
   "source": [
    "matrix[:20]"
   ]
  },
  {
   "cell_type": "code",
   "execution_count": 9,
   "id": "794b34fd-5a13-4b26-aa23-eff1d1be59ad",
   "metadata": {},
   "outputs": [],
   "source": [
    "formatedmatrix=matrix.round(2)"
   ]
  },
  {
   "cell_type": "code",
   "execution_count": 10,
   "id": "c444e857-7dfd-412f-950b-b073f40a7fae",
   "metadata": {},
   "outputs": [
    {
     "data": {
      "text/plain": [
       "array([0.55, 0.72, 0.6 , 0.54, 0.42, 0.65, 0.44, 0.89, 0.96, 0.38, 0.79,\n",
       "       0.53, 0.57, 0.93, 0.07, 0.09, 0.02, 0.83, 0.78, 0.87])"
      ]
     },
     "execution_count": 10,
     "metadata": {},
     "output_type": "execute_result"
    }
   ],
   "source": [
    "formatedmatrix[:20]"
   ]
  },
  {
   "cell_type": "markdown",
   "id": "aba024c1-6969-4a9c-9db0-5ab292483802",
   "metadata": {},
   "source": [
    "**Sum operation and comparision by time**"
   ]
  },
  {
   "cell_type": "code",
   "execution_count": 11,
   "id": "26913a07-5c5a-4575-995e-931cc5b1feb9",
   "metadata": {},
   "outputs": [
    {
     "name": "stdout",
     "output_type": "stream",
     "text": [
      "181 μs ± 4.74 μs per loop (mean ± std. dev. of 7 runs, 1,000 loops each)\n",
      "8.47 μs ± 86.4 ns per loop (mean ± std. dev. of 7 runs, 100,000 loops each)\n"
     ]
    }
   ],
   "source": [
    "%timeit sum(formatedmatrix) # this is python method/function for suming up items\n",
    "%timeit np.sum(formatedmatrix) # this is numpy method (faster and optimized)"
   ]
  },
  {
   "cell_type": "code",
   "execution_count": 12,
   "id": "0a2056ea-494b-4532-b524-690038bbb796",
   "metadata": {},
   "outputs": [
    {
     "data": {
      "text/plain": [
       "np.float64(1.0)"
      ]
     },
     "execution_count": 12,
     "metadata": {},
     "output_type": "execute_result"
    }
   ],
   "source": [
    "# max/min method\n",
    "formatedmatrix.max()"
   ]
  },
  {
   "cell_type": "code",
   "execution_count": 13,
   "id": "1a8e2649-891f-4fa1-8c42-f19da71515f0",
   "metadata": {},
   "outputs": [
    {
     "data": {
      "text/plain": [
       "np.float64(0.0)"
      ]
     },
     "execution_count": 13,
     "metadata": {},
     "output_type": "execute_result"
    }
   ],
   "source": [
    "formatedmatrix.min()"
   ]
  },
  {
   "cell_type": "code",
   "execution_count": 15,
   "id": "21de47cc-bd03-4d31-9b42-c3ed7cad6770",
   "metadata": {},
   "outputs": [
    {
     "data": {
      "text/plain": [
       "np.float64(1.0)"
      ]
     },
     "execution_count": 15,
     "metadata": {},
     "output_type": "execute_result"
    }
   ],
   "source": [
    "np.min(formatedmatrix)\n",
    "np.max(formatedmatrix)"
   ]
  },
  {
   "cell_type": "markdown",
   "id": "a1932b94-e615-49e6-b40d-e39ad0003475",
   "metadata": {},
   "source": [
    "**mean, variance and standard deviation**"
   ]
  },
  {
   "cell_type": "code",
   "execution_count": 15,
   "id": "efa19cce-765f-42da-bac4-713bdb6e5ce6",
   "metadata": {},
   "outputs": [
    {
     "data": {
      "text/plain": [
       "(np.float64(0.49601999999999996), np.float64(0.49601999999999996))"
      ]
     },
     "execution_count": 15,
     "metadata": {},
     "output_type": "execute_result"
    }
   ],
   "source": [
    "formatedmatrix.mean(),np.mean(formatedmatrix) # mean finds the sum of all the values in a matrix divided by the number of all the points in the matrix"
   ]
  },
  {
   "cell_type": "code",
   "execution_count": 16,
   "id": "84f6020f-bcaf-4623-a05d-697c556c8502",
   "metadata": {},
   "outputs": [
    {
     "data": {
      "text/plain": [
       "np.float64(0.0844421596)"
      ]
     },
     "execution_count": 16,
     "metadata": {},
     "output_type": "execute_result"
    }
   ],
   "source": [
    "# variance is a measure of avg difference btw the mean and all the other points\n",
    "np.var(formatedmatrix)"
   ]
  },
  {
   "cell_type": "code",
   "execution_count": 17,
   "id": "b24617db-96f6-4f6b-85c3-45ec229832fd",
   "metadata": {},
   "outputs": [
    {
     "data": {
      "text/plain": [
       "np.float64(0.29058933153163075)"
      ]
     },
     "execution_count": 17,
     "metadata": {},
     "output_type": "execute_result"
    }
   ],
   "source": [
    "# std gives the sq-root of the variance\n",
    "np.sqrt(np.var(formatedmatrix))"
   ]
  },
  {
   "cell_type": "code",
   "execution_count": null,
   "id": "f71dfa37-f4b4-4025-9edf-206daf6d8387",
   "metadata": {},
   "outputs": [],
   "source": []
  }
 ],
 "metadata": {
  "kernelspec": {
   "display_name": "ML1",
   "language": "python",
   "name": "venv"
  },
  "language_info": {
   "codemirror_mode": {
    "name": "ipython",
    "version": 3
   },
   "file_extension": ".py",
   "mimetype": "text/x-python",
   "name": "python",
   "nbconvert_exporter": "python",
   "pygments_lexer": "ipython3",
   "version": "3.13.5"
  }
 },
 "nbformat": 4,
 "nbformat_minor": 5
}
