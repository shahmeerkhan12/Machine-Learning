{
 "cells": [
  {
   "cell_type": "markdown",
   "id": "57a8da98-43e7-485e-87a4-b0ba7d8b6e52",
   "metadata": {},
   "source": [
    "# aggregation"
   ]
  },
  {
   "cell_type": "code",
   "execution_count": 1,
   "id": "4afec13d-b245-4fec-af20-f84103225352",
   "metadata": {},
   "outputs": [],
   "source": [
    "import numpy as np"
   ]
  },
  {
   "cell_type": "code",
   "execution_count": 2,
   "id": "e4e174da-3290-4027-8305-136f0be47291",
   "metadata": {},
   "outputs": [],
   "source": [
    "matrix = np.random.random(1000)"
   ]
  },
  {
   "cell_type": "code",
   "execution_count": 3,
   "id": "87dce48d-6464-4826-b817-7a99da0efad6",
   "metadata": {},
   "outputs": [
    {
     "data": {
      "text/plain": [
       "array([0.40200701, 0.66190443, 0.22805124, 0.88940838, 0.15591312,\n",
       "       0.33670767, 0.65928848, 0.20756763, 0.78137393, 0.58387163,\n",
       "       0.15794193, 0.54833038, 0.94741398, 0.41959997, 0.37176809,\n",
       "       0.13279341, 0.74273767, 0.25731075, 0.17763094, 0.58995429])"
      ]
     },
     "execution_count": 3,
     "metadata": {},
     "output_type": "execute_result"
    }
   ],
   "source": [
    "matrix[:20]"
   ]
  },
  {
   "cell_type": "code",
   "execution_count": 6,
   "id": "794b34fd-5a13-4b26-aa23-eff1d1be59ad",
   "metadata": {},
   "outputs": [],
   "source": [
    "formatedmatrix=matrix.round(2)"
   ]
  },
  {
   "cell_type": "code",
   "execution_count": 7,
   "id": "c444e857-7dfd-412f-950b-b073f40a7fae",
   "metadata": {},
   "outputs": [
    {
     "data": {
      "text/plain": [
       "array([0.4 , 0.66, 0.23, 0.89, 0.16, 0.34, 0.66, 0.21, 0.78, 0.58, 0.16,\n",
       "       0.55, 0.95, 0.42, 0.37, 0.13, 0.74, 0.26, 0.18, 0.59])"
      ]
     },
     "execution_count": 7,
     "metadata": {},
     "output_type": "execute_result"
    }
   ],
   "source": [
    "formatedmatrix[:20]"
   ]
  },
  {
   "cell_type": "markdown",
   "id": "aba024c1-6969-4a9c-9db0-5ab292483802",
   "metadata": {},
   "source": [
    "**Sum operation and comparision by time**"
   ]
  },
  {
   "cell_type": "code",
   "execution_count": 11,
   "id": "26913a07-5c5a-4575-995e-931cc5b1feb9",
   "metadata": {},
   "outputs": [
    {
     "name": "stdout",
     "output_type": "stream",
     "text": [
      "181 μs ± 4.74 μs per loop (mean ± std. dev. of 7 runs, 1,000 loops each)\n",
      "8.47 μs ± 86.4 ns per loop (mean ± std. dev. of 7 runs, 100,000 loops each)\n"
     ]
    }
   ],
   "source": [
    "%timeit sum(formatedmatrix) # this is python method/function for suming up items\n",
    "%timeit np.sum(formatedmatrix) # this is numpy method (faster and optimized)"
   ]
  },
  {
   "cell_type": "code",
   "execution_count": 12,
   "id": "0a2056ea-494b-4532-b524-690038bbb796",
   "metadata": {},
   "outputs": [
    {
     "data": {
      "text/plain": [
       "np.float64(1.0)"
      ]
     },
     "execution_count": 12,
     "metadata": {},
     "output_type": "execute_result"
    }
   ],
   "source": [
    "# max/min method\n",
    "formatedmatrix.max()"
   ]
  },
  {
   "cell_type": "code",
   "execution_count": 13,
   "id": "1a8e2649-891f-4fa1-8c42-f19da71515f0",
   "metadata": {},
   "outputs": [
    {
     "data": {
      "text/plain": [
       "np.float64(0.0)"
      ]
     },
     "execution_count": 13,
     "metadata": {},
     "output_type": "execute_result"
    }
   ],
   "source": [
    "formatedmatrix.min()"
   ]
  },
  {
   "cell_type": "code",
   "execution_count": 15,
   "id": "21de47cc-bd03-4d31-9b42-c3ed7cad6770",
   "metadata": {},
   "outputs": [
    {
     "data": {
      "text/plain": [
       "np.float64(1.0)"
      ]
     },
     "execution_count": 15,
     "metadata": {},
     "output_type": "execute_result"
    }
   ],
   "source": [
    "np.min(formatedmatrix)\n",
    "np.max(formatedmatrix)"
   ]
  },
  {
   "cell_type": "code",
   "execution_count": null,
   "id": "8df63374-4063-43de-a772-6b064ac6499c",
   "metadata": {},
   "outputs": [],
   "source": []
  }
 ],
 "metadata": {
  "kernelspec": {
   "display_name": "ML1",
   "language": "python",
   "name": "venv"
  },
  "language_info": {
   "codemirror_mode": {
    "name": "ipython",
    "version": 3
   },
   "file_extension": ".py",
   "mimetype": "text/x-python",
   "name": "python",
   "nbconvert_exporter": "python",
   "pygments_lexer": "ipython3",
   "version": "3.13.5"
  }
 },
 "nbformat": 4,
 "nbformat_minor": 5
}
