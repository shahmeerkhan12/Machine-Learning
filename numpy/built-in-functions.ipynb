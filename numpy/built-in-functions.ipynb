{
 "cells": [
  {
   "cell_type": "code",
   "execution_count": 1,
   "id": "9a520889-10dc-4b35-85b2-f224859b8ded",
   "metadata": {
    "collapsed": true,
    "jupyter": {
     "outputs_hidden": true
    }
   },
   "outputs": [],
   "source": [
    "import numpy as np"
   ]
  },
  {
   "cell_type": "markdown",
   "id": "54acf9a4-8898-4df3-8c11-338673b4e1eb",
   "metadata": {},
   "source": [
    "**creating numpy arrays thru built-in functions**"
   ]
  },
  {
   "cell_type": "code",
   "execution_count": 4,
   "id": "b533666e-bd39-420a-82cc-2dc9699ff0e1",
   "metadata": {
    "collapsed": true,
    "jupyter": {
     "outputs_hidden": true
    }
   },
   "outputs": [],
   "source": [
    "# let we want to create and populate an array with all zeros\n",
    "zeros = np.zeros((2,2))"
   ]
  },
  {
   "cell_type": "code",
   "execution_count": 5,
   "id": "18d15bc0-395a-4970-9498-ea5e3b062785",
   "metadata": {
    "collapsed": true,
    "jupyter": {
     "outputs_hidden": true
    }
   },
   "outputs": [
    {
     "data": {
      "text/plain": [
       "array([[0., 0.],\n",
       "       [0., 0.]])"
      ]
     },
     "execution_count": 5,
     "metadata": {},
     "output_type": "execute_result"
    }
   ],
   "source": [
    "zeros"
   ]
  },
  {
   "cell_type": "code",
   "execution_count": 7,
   "id": "a2b4185a-3a10-4b83-9c50-f27394b4ce70",
   "metadata": {
    "collapsed": true,
    "jupyter": {
     "outputs_hidden": true
    }
   },
   "outputs": [],
   "source": [
    "# populate with ones\n",
    "ones = np.ones((2,2))"
   ]
  },
  {
   "cell_type": "code",
   "execution_count": 8,
   "id": "8e361b68-1a04-48f1-a85d-b931da33ba10",
   "metadata": {
    "collapsed": true,
    "jupyter": {
     "outputs_hidden": true
    }
   },
   "outputs": [
    {
     "data": {
      "text/plain": [
       "array([[1., 1.],\n",
       "       [1., 1.]])"
      ]
     },
     "execution_count": 8,
     "metadata": {},
     "output_type": "execute_result"
    }
   ],
   "source": [
    "ones"
   ]
  },
  {
   "cell_type": "code",
   "execution_count": 11,
   "id": "84772392-ef61-4790-8862-d5d6c5afc4fa",
   "metadata": {
    "collapsed": true,
    "jupyter": {
     "outputs_hidden": true
    }
   },
   "outputs": [],
   "source": [
    "#populate all with a sequence of integers or float\n",
    "# para start,stop,step\n",
    "seq = np.arange(0,20,3)"
   ]
  },
  {
   "cell_type": "code",
   "execution_count": 10,
   "id": "691b0a83-632a-47a2-8890-5f7574018494",
   "metadata": {
    "collapsed": true,
    "jupyter": {
     "outputs_hidden": true
    }
   },
   "outputs": [
    {
     "data": {
      "text/plain": [
       "array([ 0,  3,  6,  9, 12, 15, 18])"
      ]
     },
     "execution_count": 10,
     "metadata": {},
     "output_type": "execute_result"
    }
   ],
   "source": [
    "seq"
   ]
  },
  {
   "cell_type": "code",
   "execution_count": 13,
   "id": "7acb2fe5-82c5-4cfa-826a-be3f36eb7156",
   "metadata": {
    "collapsed": true,
    "jupyter": {
     "outputs_hidden": true
    }
   },
   "outputs": [],
   "source": [
    "# creatin random number array\n",
    "r_arr =np.random.randint(10,30,size=(2,4)) "
   ]
  },
  {
   "cell_type": "code",
   "execution_count": 15,
   "id": "653b41d9-88b4-4b11-823c-90319bbdc736",
   "metadata": {
    "collapsed": true,
    "jupyter": {
     "outputs_hidden": true
    }
   },
   "outputs": [
    {
     "data": {
      "text/plain": [
       "(2, 4)"
      ]
     },
     "execution_count": 15,
     "metadata": {},
     "output_type": "execute_result"
    }
   ],
   "source": [
    "r_arr.shape"
   ]
  },
  {
   "cell_type": "code",
   "execution_count": 16,
   "id": "55eedfe1-127f-4814-bc64-b82751be546d",
   "metadata": {
    "collapsed": true,
    "jupyter": {
     "outputs_hidden": true
    }
   },
   "outputs": [
    {
     "data": {
      "text/plain": [
       "array([[0.24045689, 0.93395265, 0.92780117],\n",
       "       [0.12236212, 0.93440242, 0.91809713],\n",
       "       [0.70882227, 0.06071136, 0.65420422]])"
      ]
     },
     "execution_count": 16,
     "metadata": {},
     "output_type": "execute_result"
    }
   ],
   "source": [
    "# creating between 0 and 1 exlcusive\n",
    "btw_zero_one = np.random.rand(3,3)\n",
    "btw_zero_one"
   ]
  },
  {
   "cell_type": "code",
   "execution_count": null,
   "id": "5cbcb1cf-3b4c-465e-a273-b4cf83d30845",
   "metadata": {
    "collapsed": true,
    "jupyter": {
     "outputs_hidden": true
    }
   },
   "outputs": [],
   "source": []
  }
 ],
 "metadata": {
  "kernelspec": {
   "display_name": "ML1",
   "language": "python",
   "name": "venv"
  },
  "language_info": {
   "codemirror_mode": {
    "name": "ipython",
    "version": 3
   },
   "file_extension": ".py",
   "mimetype": "text/x-python",
   "name": "python",
   "nbconvert_exporter": "python",
   "pygments_lexer": "ipython3",
   "version": "3.13.5"
  }
 },
 "nbformat": 4,
 "nbformat_minor": 5
}
