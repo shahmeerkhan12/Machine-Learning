{
 "cells": [
  {
   "cell_type": "code",
   "execution_count": 1,
   "id": "cf9718f9-1616-49df-be46-f59f04fde053",
   "metadata": {},
   "outputs": [],
   "source": [
    "import numpy as np"
   ]
  },
  {
   "cell_type": "code",
   "execution_count": 13,
   "id": "809b77a3-a0fa-4d06-af12-d8f875421ed0",
   "metadata": {},
   "outputs": [],
   "source": [
    "np.random.seed(0)\n",
    "matrix = np.random.randint(3,10,size=(5,3))"
   ]
  },
  {
   "cell_type": "code",
   "execution_count": 15,
   "id": "e3e52e65-0b31-45ef-9be1-e9a094ff9bd1",
   "metadata": {},
   "outputs": [
    {
     "data": {
      "text/plain": [
       "array([[7, 8, 3],\n",
       "       [6, 6, 6],\n",
       "       [4, 6, 8],\n",
       "       [5, 7, 9],\n",
       "       [3, 3, 7]], dtype=int32)"
      ]
     },
     "execution_count": 15,
     "metadata": {},
     "output_type": "execute_result"
    }
   ],
   "source": [
    "matrix"
   ]
  },
  {
   "cell_type": "markdown",
   "id": "b4abab69-558e-4b43-831b-e32da0090175",
   "metadata": {},
   "source": [
    "**lets sort the array**"
   ]
  },
  {
   "cell_type": "code",
   "execution_count": 4,
   "id": "d1db111f-b11a-43f9-89f7-2cb196f0f643",
   "metadata": {},
   "outputs": [
    {
     "data": {
      "text/plain": [
       "array([[3, 7, 8],\n",
       "       [6, 6, 6],\n",
       "       [4, 6, 8],\n",
       "       [5, 7, 9],\n",
       "       [3, 3, 7]], dtype=int32)"
      ]
     },
     "execution_count": 4,
     "metadata": {},
     "output_type": "execute_result"
    }
   ],
   "source": [
    "np.sort(matrix) # sorts row-wise, axis = 1 by default"
   ]
  },
  {
   "cell_type": "code",
   "execution_count": 8,
   "id": "bd9be01b-77f6-4345-83a2-730b68402a72",
   "metadata": {},
   "outputs": [
    {
     "data": {
      "text/plain": [
       "array([[3, 3, 3],\n",
       "       [4, 6, 6],\n",
       "       [5, 6, 7],\n",
       "       [6, 7, 8],\n",
       "       [7, 8, 9]], dtype=int32)"
      ]
     },
     "execution_count": 8,
     "metadata": {},
     "output_type": "execute_result"
    }
   ],
   "source": [
    "np.sort(matrix, axis=0) # sorts matrix by columns,"
   ]
  },
  {
   "cell_type": "code",
   "execution_count": 16,
   "id": "cb77c87f-8fdd-4336-a4f1-457baf144733",
   "metadata": {},
   "outputs": [
    {
     "data": {
      "text/plain": [
       "np.int64(2)"
      ]
     },
     "execution_count": 16,
     "metadata": {},
     "output_type": "execute_result"
    }
   ],
   "source": [
    "np.argmin(matrix) # retrun the index of the smallest item"
   ]
  },
  {
   "cell_type": "code",
   "execution_count": 17,
   "id": "73a16660-874e-47ca-85b5-047f8778baf8",
   "metadata": {},
   "outputs": [
    {
     "data": {
      "text/plain": [
       "np.int64(11)"
      ]
     },
     "execution_count": 17,
     "metadata": {},
     "output_type": "execute_result"
    }
   ],
   "source": [
    "np.argmax(matrix # return the index of the largest tiem)"
   ]
  },
  {
   "cell_type": "code",
   "execution_count": null,
   "id": "81bb60fa-6b26-4e59-b613-2cfa1278285e",
   "metadata": {},
   "outputs": [],
   "source": []
  }
 ],
 "metadata": {
  "kernelspec": {
   "display_name": "ML1",
   "language": "python",
   "name": "venv"
  },
  "language_info": {
   "codemirror_mode": {
    "name": "ipython",
    "version": 3
   },
   "file_extension": ".py",
   "mimetype": "text/x-python",
   "name": "python",
   "nbconvert_exporter": "python",
   "pygments_lexer": "ipython3",
   "version": "3.13.5"
  }
 },
 "nbformat": 4,
 "nbformat_minor": 5
}
