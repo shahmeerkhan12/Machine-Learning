{
 "cells": [
  {
   "cell_type": "markdown",
   "id": "77d57e99-862d-4ef2-b805-17be5d3e1b83",
   "metadata": {},
   "source": [
    "# Getting started with numPy"
   ]
  },
  {
   "cell_type": "markdown",
   "id": "2a92520d-e569-462c-aee6-f100de6cb355",
   "metadata": {},
   "source": [
    "**data types**"
   ]
  },
  {
   "cell_type": "code",
   "execution_count": 1,
   "id": "2adfc74c-e5a6-498b-93cd-4e9f8ebc7ec8",
   "metadata": {},
   "outputs": [],
   "source": [
    "import numpy as np"
   ]
  },
  {
   "cell_type": "markdown",
   "id": "6c6073c6-f6b3-45ef-aded-0213b383d391",
   "metadata": {},
   "source": [
    "**working with arrays and matrices**"
   ]
  },
  {
   "cell_type": "code",
   "execution_count": 2,
   "id": "d3aa99f7-ae45-4589-afc0-3bbd3c4a9a4d",
   "metadata": {},
   "outputs": [],
   "source": [
    "simp_arr= np.array([1,2,3,4,5])#1D array"
   ]
  },
  {
   "cell_type": "code",
   "execution_count": 3,
   "id": "d1d8a695-bf31-449c-af6d-cac4ae9362a4",
   "metadata": {},
   "outputs": [
    {
     "data": {
      "text/plain": [
       "array([1, 2, 3, 4, 5])"
      ]
     },
     "execution_count": 3,
     "metadata": {},
     "output_type": "execute_result"
    }
   ],
   "source": [
    "simp_arr"
   ]
  },
  {
   "cell_type": "markdown",
   "id": "33167208-f1bd-42d3-a05a-6396057faf4f",
   "metadata": {},
   "source": [
    "**creating a 2D array**"
   ]
  },
  {
   "cell_type": "code",
   "execution_count": 7,
   "id": "0a057d8b-09b2-4fc4-bef1-52ccc2fea3c8",
   "metadata": {},
   "outputs": [],
   "source": [
    "simp_2D = np.array([[4,6,7],[1,2,3]])# it's also called matrix"
   ]
  },
  {
   "cell_type": "code",
   "execution_count": 6,
   "id": "c4f3f085-fe23-4937-b6c0-338df8fd32c1",
   "metadata": {},
   "outputs": [
    {
     "data": {
      "text/plain": [
       "array([[4, 6, 7],\n",
       "       [1, 2, 3]])"
      ]
     },
     "execution_count": 6,
     "metadata": {},
     "output_type": "execute_result"
    }
   ],
   "source": [
    "simp_2D"
   ]
  },
  {
   "cell_type": "code",
   "execution_count": null,
   "id": "bafec893-ca6b-4acd-aa99-ff4b5b10339f",
   "metadata": {},
   "outputs": [],
   "source": []
  }
 ],
 "metadata": {
  "kernelspec": {
   "display_name": "ML1",
   "language": "python",
   "name": "venv"
  },
  "language_info": {
   "codemirror_mode": {
    "name": "ipython",
    "version": 3
   },
   "file_extension": ".py",
   "mimetype": "text/x-python",
   "name": "python",
   "nbconvert_exporter": "python",
   "pygments_lexer": "ipython3",
   "version": "3.13.5"
  }
 },
 "nbformat": 4,
 "nbformat_minor": 5
}
