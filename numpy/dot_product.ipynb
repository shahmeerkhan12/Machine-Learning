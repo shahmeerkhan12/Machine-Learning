{
 "cells": [
  {
   "cell_type": "markdown",
   "id": "d7a64ecf-2964-42fd-9f47-0b27ba9918b4",
   "metadata": {},
   "source": [
    "# dot product vs simple matrix multiplication"
   ]
  },
  {
   "cell_type": "code",
   "execution_count": 1,
   "id": "7093c1dd-0690-4e36-abbb-a7df9e5d19b2",
   "metadata": {},
   "outputs": [],
   "source": [
    "import numpy as np"
   ]
  },
  {
   "cell_type": "code",
   "execution_count": 2,
   "id": "63d79171-d93a-4cef-aa48-fd17f537508f",
   "metadata": {},
   "outputs": [],
   "source": [
    "np.random.seed(0)"
   ]
  },
  {
   "cell_type": "code",
   "execution_count": 26,
   "id": "3c6c11fd-7e63-40e2-b166-6e1945264236",
   "metadata": {},
   "outputs": [],
   "source": [
    "m1 = np.random.randint(2,10,size=(3,4))"
   ]
  },
  {
   "cell_type": "code",
   "execution_count": 31,
   "id": "31a631e0-8528-449a-a59a-235e1cba0a38",
   "metadata": {},
   "outputs": [],
   "source": [
    "m2 = np.random.randint(5,11,size=(3,4))"
   ]
  },
  {
   "cell_type": "code",
   "execution_count": 32,
   "id": "cc8c69e9-793d-4c3a-b2f2-089e6b4f298f",
   "metadata": {},
   "outputs": [
    {
     "data": {
      "text/plain": [
       "(array([[6, 9, 8, 2],\n",
       "        [2, 6, 4, 3],\n",
       "        [8, 9, 9, 8]], dtype=int32),\n",
       " array([[ 5,  6, 10,  6],\n",
       "        [10,  5,  6,  9],\n",
       "        [ 8,  5,  8, 10]], dtype=int32))"
      ]
     },
     "execution_count": 32,
     "metadata": {},
     "output_type": "execute_result"
    }
   ],
   "source": [
    "m1,m2"
   ]
  },
  {
   "cell_type": "markdown",
   "id": "eefec356-884f-45fc-827d-da0cdaf854c3",
   "metadata": {},
   "source": [
    "**simple multiplication**"
   ]
  },
  {
   "cell_type": "code",
   "execution_count": 33,
   "id": "778db472-fbbb-4ce7-85f4-20549cb08b7d",
   "metadata": {},
   "outputs": [
    {
     "data": {
      "text/plain": [
       "array([[30, 54, 80, 12],\n",
       "       [20, 30, 24, 27],\n",
       "       [64, 45, 72, 80]], dtype=int32)"
      ]
     },
     "execution_count": 33,
     "metadata": {},
     "output_type": "execute_result"
    }
   ],
   "source": [
    "m1*m2"
   ]
  },
  {
   "cell_type": "markdown",
   "id": "05678f14-9a35-4164-9e1e-187a19b87258",
   "metadata": {},
   "source": [
    "**dot product**"
   ]
  },
  {
   "cell_type": "code",
   "execution_count": 35,
   "id": "9a04693e-3533-4e70-9907-643f9ef10848",
   "metadata": {},
   "outputs": [
    {
     "data": {
      "text/plain": [
       "array([[176, 171, 177],\n",
       "       [104, 101, 108],\n",
       "       [232, 251, 261]], dtype=int32)"
      ]
     },
     "execution_count": 35,
     "metadata": {},
     "output_type": "execute_result"
    }
   ],
   "source": [
    "m1.dot(m2.T) # u must ensure that the dimension match number of rows of m1 must match the col of m2 take transpose\n"
   ]
  },
  {
   "cell_type": "markdown",
   "id": "a0e59e7d-0afd-4bfd-ad5d-d686624646dd",
   "metadata": {},
   "source": [
    "**reshape vs transpose**"
   ]
  },
  {
   "cell_type": "code",
   "execution_count": 3,
   "id": "35c53331-4ee9-48d4-a2cd-359ff18e344f",
   "metadata": {},
   "outputs": [],
   "source": [
    "# a reshape matrix method changes the dimensions of a matrix: for example\n",
    "mat_1 = np.random.randint(2,9,size=(3,4))"
   ]
  },
  {
   "cell_type": "code",
   "execution_count": 7,
   "id": "939a0d39-6dfd-4a19-bd7d-6743255eaf6e",
   "metadata": {},
   "outputs": [
    {
     "data": {
      "text/plain": [
       "array([[6, 7, 2, 5],\n",
       "       [5, 5, 3, 5],\n",
       "       [7, 4, 6, 8]], dtype=int32)"
      ]
     },
     "execution_count": 7,
     "metadata": {},
     "output_type": "execute_result"
    }
   ],
   "source": [
    "mat_1"
   ]
  },
  {
   "cell_type": "code",
   "execution_count": 9,
   "id": "a2f59430-eadb-4696-954a-ec61a4e2a7b1",
   "metadata": {},
   "outputs": [
    {
     "data": {
      "text/plain": [
       "(3, 4)"
      ]
     },
     "execution_count": 9,
     "metadata": {},
     "output_type": "execute_result"
    }
   ],
   "source": [
    "np.shape(mat_1) # the original dimensions are 3*4; two 2D dimensional matrix"
   ]
  },
  {
   "cell_type": "code",
   "execution_count": 16,
   "id": "89c4d66a-fd90-4024-957a-19cd01e11530",
   "metadata": {},
   "outputs": [],
   "source": [
    "mat_2_reshaped = mat_1.reshape(6,2,1)# now this is a 3Dimensional matrix"
   ]
  },
  {
   "cell_type": "code",
   "execution_count": 18,
   "id": "8297f161-6500-4dba-9e2f-42c73b512ef0",
   "metadata": {},
   "outputs": [
    {
     "data": {
      "text/plain": [
       "(6, 2, 1)"
      ]
     },
     "execution_count": 18,
     "metadata": {},
     "output_type": "execute_result"
    }
   ],
   "source": [
    "np.shape(mat_2_reshaped)"
   ]
  },
  {
   "cell_type": "code",
   "execution_count": null,
   "id": "44edbd7e-3a02-4e5f-a073-88f730e2b661",
   "metadata": {},
   "outputs": [],
   "source": []
  }
 ],
 "metadata": {
  "kernelspec": {
   "display_name": "ML1",
   "language": "python",
   "name": "venv"
  },
  "language_info": {
   "codemirror_mode": {
    "name": "ipython",
    "version": 3
   },
   "file_extension": ".py",
   "mimetype": "text/x-python",
   "name": "python",
   "nbconvert_exporter": "python",
   "pygments_lexer": "ipython3",
   "version": "3.13.5"
  }
 },
 "nbformat": 4,
 "nbformat_minor": 5
}
