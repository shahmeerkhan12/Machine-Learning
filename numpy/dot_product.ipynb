{
 "cells": [
  {
   "cell_type": "markdown",
   "id": "d7a64ecf-2964-42fd-9f47-0b27ba9918b4",
   "metadata": {},
   "source": [
    "# dot product vs simple matrix multiplication"
   ]
  },
  {
   "cell_type": "code",
   "execution_count": 1,
   "id": "7093c1dd-0690-4e36-abbb-a7df9e5d19b2",
   "metadata": {},
   "outputs": [],
   "source": [
    "import numpy as np"
   ]
  },
  {
   "cell_type": "code",
   "execution_count": 18,
   "id": "63d79171-d93a-4cef-aa48-fd17f537508f",
   "metadata": {},
   "outputs": [],
   "source": [
    "np.random.seed(0)"
   ]
  },
  {
   "cell_type": "code",
   "execution_count": 26,
   "id": "3c6c11fd-7e63-40e2-b166-6e1945264236",
   "metadata": {},
   "outputs": [],
   "source": [
    "m1 = np.random.randint(2,10,size=(3,4))"
   ]
  },
  {
   "cell_type": "code",
   "execution_count": 31,
   "id": "31a631e0-8528-449a-a59a-235e1cba0a38",
   "metadata": {},
   "outputs": [],
   "source": [
    "m2 = np.random.randint(5,11,size=(3,4))"
   ]
  },
  {
   "cell_type": "code",
   "execution_count": 32,
   "id": "cc8c69e9-793d-4c3a-b2f2-089e6b4f298f",
   "metadata": {},
   "outputs": [
    {
     "data": {
      "text/plain": [
       "(array([[6, 9, 8, 2],\n",
       "        [2, 6, 4, 3],\n",
       "        [8, 9, 9, 8]], dtype=int32),\n",
       " array([[ 5,  6, 10,  6],\n",
       "        [10,  5,  6,  9],\n",
       "        [ 8,  5,  8, 10]], dtype=int32))"
      ]
     },
     "execution_count": 32,
     "metadata": {},
     "output_type": "execute_result"
    }
   ],
   "source": [
    "m1,m2"
   ]
  },
  {
   "cell_type": "markdown",
   "id": "eefec356-884f-45fc-827d-da0cdaf854c3",
   "metadata": {},
   "source": [
    "**simple multiplication**"
   ]
  },
  {
   "cell_type": "code",
   "execution_count": 33,
   "id": "778db472-fbbb-4ce7-85f4-20549cb08b7d",
   "metadata": {},
   "outputs": [
    {
     "data": {
      "text/plain": [
       "array([[30, 54, 80, 12],\n",
       "       [20, 30, 24, 27],\n",
       "       [64, 45, 72, 80]], dtype=int32)"
      ]
     },
     "execution_count": 33,
     "metadata": {},
     "output_type": "execute_result"
    }
   ],
   "source": [
    "m1*m2"
   ]
  },
  {
   "cell_type": "markdown",
   "id": "05678f14-9a35-4164-9e1e-187a19b87258",
   "metadata": {},
   "source": [
    "**dot product**"
   ]
  },
  {
   "cell_type": "code",
   "execution_count": 35,
   "id": "9a04693e-3533-4e70-9907-643f9ef10848",
   "metadata": {},
   "outputs": [
    {
     "data": {
      "text/plain": [
       "array([[176, 171, 177],\n",
       "       [104, 101, 108],\n",
       "       [232, 251, 261]], dtype=int32)"
      ]
     },
     "execution_count": 35,
     "metadata": {},
     "output_type": "execute_result"
    }
   ],
   "source": [
    "m1.dot(m2.T) # u must ensure that the dimension match number of rows of m1 must match the col of m2 take transpose\n"
   ]
  },
  {
   "cell_type": "code",
   "execution_count": null,
   "id": "eba9526f-0ee4-4448-bcc7-611ef5c8f248",
   "metadata": {},
   "outputs": [],
   "source": []
  }
 ],
 "metadata": {
  "kernelspec": {
   "display_name": "ML1",
   "language": "python",
   "name": "venv"
  },
  "language_info": {
   "codemirror_mode": {
    "name": "ipython",
    "version": 3
   },
   "file_extension": ".py",
   "mimetype": "text/x-python",
   "name": "python",
   "nbconvert_exporter": "python",
   "pygments_lexer": "ipython3",
   "version": "3.13.5"
  }
 },
 "nbformat": 4,
 "nbformat_minor": 5
}
