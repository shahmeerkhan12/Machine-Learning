{
 "cells": [
  {
   "cell_type": "code",
   "execution_count": 1,
   "id": "d214f532-4a30-457c-85d6-a4ec74210acc",
   "metadata": {},
   "outputs": [],
   "source": [
    "import numpy as np"
   ]
  },
  {
   "cell_type": "code",
   "execution_count": 6,
   "id": "6a3e8acd-26bf-46ce-ba6f-1d5af4fd7020",
   "metadata": {},
   "outputs": [],
   "source": [
    "matrix = np.random.randint(10,size=(2,3,2))"
   ]
  },
  {
   "cell_type": "code",
   "execution_count": 7,
   "id": "1d9a0df3-98a5-464e-a2c2-c840b8400014",
   "metadata": {},
   "outputs": [
    {
     "data": {
      "text/plain": [
       "array([[[0, 3],\n",
       "        [6, 3],\n",
       "        [0, 6]],\n",
       "\n",
       "       [[3, 8],\n",
       "        [6, 1],\n",
       "        [8, 1]]], dtype=int32)"
      ]
     },
     "execution_count": 7,
     "metadata": {},
     "output_type": "execute_result"
    }
   ],
   "source": [
    "matrix"
   ]
  },
  {
   "cell_type": "code",
   "execution_count": null,
   "id": "145809d4-6301-4849-ab94-3d8e50b57f63",
   "metadata": {},
   "outputs": [],
   "source": []
  }
 ],
 "metadata": {
  "kernelspec": {
   "display_name": "ML1",
   "language": "python",
   "name": "venv"
  },
  "language_info": {
   "codemirror_mode": {
    "name": "ipython",
    "version": 3
   },
   "file_extension": ".py",
   "mimetype": "text/x-python",
   "name": "python",
   "nbconvert_exporter": "python",
   "pygments_lexer": "ipython3",
   "version": "3.13.5"
  }
 },
 "nbformat": 4,
 "nbformat_minor": 5
}
