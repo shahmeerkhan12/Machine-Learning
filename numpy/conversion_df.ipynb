{
 "cells": [
  {
   "cell_type": "code",
   "execution_count": 1,
   "id": "3cd95118-53d1-4579-8913-d81fda217f4f",
   "metadata": {},
   "outputs": [],
   "source": [
    "import numpy as np"
   ]
  },
  {
   "cell_type": "code",
   "execution_count": 13,
   "id": "8ca0ef1b-9984-43f0-bc77-8af4493daa95",
   "metadata": {},
   "outputs": [
    {
     "data": {
      "text/plain": [
       "array([[0.79, 0.28, 0.31, 0.38, 0.57, 0.62],\n",
       "       [0.32, 0.58, 0.89, 0.76, 0.65, 0.6 ],\n",
       "       [0.96, 0.05, 0.36, 0.08, 0.72, 0.38],\n",
       "       [0.86, 0.96, 0.79, 0.97, 0.1 , 0.08],\n",
       "       [0.21, 0.75, 0.51, 0.95, 0.43, 0.96]])"
      ]
     },
     "execution_count": 13,
     "metadata": {},
     "output_type": "execute_result"
    }
   ],
   "source": [
    "# create a random matrix of 5x6\n",
    "matrix = np.random.rand(5,6)\n",
    "new_matrix = np.round(matrix,2)\n",
    "new_matrix"
   ]
  },
  {
   "cell_type": "code",
   "execution_count": 15,
   "id": "9686950c-ebd5-4880-8a9e-c699c995e107",
   "metadata": {},
   "outputs": [
    {
     "name": "stdout",
     "output_type": "stream",
     "text": [
      "[[0.79 0.28 0.31 0.38 0.57 0.62]\n",
      " [0.32 0.58 0.89 0.76 0.65 0.60]\n",
      " [0.96 0.05 0.36 0.08 0.72 0.38]\n",
      " [0.86 0.96 0.79 0.97 0.10 0.08]\n",
      " [0.21 0.75 0.51 0.95 0.43 0.96]]\n"
     ]
    }
   ],
   "source": [
    "# method 02 only for print options\n",
    "float_formatter = \"{:.2f}\".format\n",
    "np.set_printoptions(formatter={'float_kind':float_formatter})\n",
    "print(matrix)"
   ]
  },
  {
   "cell_type": "code",
   "execution_count": 18,
   "id": "e0cf59a4-842e-4c58-b972-e906950c8f70",
   "metadata": {},
   "outputs": [
    {
     "data": {
      "text/plain": [
       "array([[0.7879957 , 0.28403893, 0.31433429, 0.37931588, 0.56550509,\n",
       "        0.62450462],\n",
       "       [0.3181425 , 0.58465824, 0.894332  , 0.760176  , 0.65261772,\n",
       "        0.60326036],\n",
       "       [0.96071186, 0.05274215, 0.3587591 , 0.0832376 , 0.71970925,\n",
       "        0.37630153],\n",
       "       [0.86284967, 0.96401434, 0.7855212 , 0.96851208, 0.0980467 ,\n",
       "        0.08472455],\n",
       "       [0.2096114 , 0.75118304, 0.5050264 , 0.95030839, 0.43154751,\n",
       "        0.9624984 ]])"
      ]
     },
     "execution_count": 18,
     "metadata": {},
     "output_type": "execute_result"
    }
   ],
   "source": [
    "# np.set_printoptions(formatter = None)   used to reformate the matrix output to original form\n",
    "matrix"
   ]
  },
  {
   "cell_type": "code",
   "execution_count": null,
   "id": "8b419919-a2bf-4966-bba3-24b2a5ced72f",
   "metadata": {},
   "outputs": [],
   "source": []
  }
 ],
 "metadata": {
  "kernelspec": {
   "display_name": "ML1",
   "language": "python",
   "name": "venv"
  },
  "language_info": {
   "codemirror_mode": {
    "name": "ipython",
    "version": 3
   },
   "file_extension": ".py",
   "mimetype": "text/x-python",
   "name": "python",
   "nbconvert_exporter": "python",
   "pygments_lexer": "ipython3",
   "version": "3.13.5"
  }
 },
 "nbformat": 4,
 "nbformat_minor": 5
}
