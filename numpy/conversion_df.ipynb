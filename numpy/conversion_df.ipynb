{
 "cells": [
  {
   "cell_type": "code",
   "execution_count": 1,
   "id": "3cd95118-53d1-4579-8913-d81fda217f4f",
   "metadata": {
    "collapsed": true,
    "jupyter": {
     "outputs_hidden": true
    }
   },
   "outputs": [],
   "source": [
    "import numpy as np"
   ]
  },
  {
   "cell_type": "code",
   "execution_count": 13,
   "id": "8ca0ef1b-9984-43f0-bc77-8af4493daa95",
   "metadata": {
    "collapsed": true,
    "jupyter": {
     "outputs_hidden": true
    }
   },
   "outputs": [
    {
     "data": {
      "text/plain": [
       "array([[0.79, 0.28, 0.31, 0.38, 0.57, 0.62],\n",
       "       [0.32, 0.58, 0.89, 0.76, 0.65, 0.6 ],\n",
       "       [0.96, 0.05, 0.36, 0.08, 0.72, 0.38],\n",
       "       [0.86, 0.96, 0.79, 0.97, 0.1 , 0.08],\n",
       "       [0.21, 0.75, 0.51, 0.95, 0.43, 0.96]])"
      ]
     },
     "execution_count": 13,
     "metadata": {},
     "output_type": "execute_result"
    }
   ],
   "source": [
    "# create a random matrix of 5x6\n",
    "matrix = np.random.rand(5,6)\n",
    "new_matrix = np.round(matrix,2)\n",
    "new_matrix"
   ]
  },
  {
   "cell_type": "code",
   "execution_count": 15,
   "id": "9686950c-ebd5-4880-8a9e-c699c995e107",
   "metadata": {
    "collapsed": true,
    "jupyter": {
     "outputs_hidden": true
    }
   },
   "outputs": [
    {
     "name": "stdout",
     "output_type": "stream",
     "text": [
      "[[0.79 0.28 0.31 0.38 0.57 0.62]\n",
      " [0.32 0.58 0.89 0.76 0.65 0.60]\n",
      " [0.96 0.05 0.36 0.08 0.72 0.38]\n",
      " [0.86 0.96 0.79 0.97 0.10 0.08]\n",
      " [0.21 0.75 0.51 0.95 0.43 0.96]]\n"
     ]
    }
   ],
   "source": [
    "# method 02 only for print options\n",
    "float_formatter = \"{:.2f}\".format\n",
    "np.set_printoptions(formatter={'float_kind':float_formatter})\n",
    "print(matrix)"
   ]
  },
  {
   "cell_type": "code",
   "execution_count": 18,
   "id": "e0cf59a4-842e-4c58-b972-e906950c8f70",
   "metadata": {
    "collapsed": true,
    "jupyter": {
     "outputs_hidden": true
    }
   },
   "outputs": [
    {
     "data": {
      "text/plain": [
       "array([[0.7879957 , 0.28403893, 0.31433429, 0.37931588, 0.56550509,\n",
       "        0.62450462],\n",
       "       [0.3181425 , 0.58465824, 0.894332  , 0.760176  , 0.65261772,\n",
       "        0.60326036],\n",
       "       [0.96071186, 0.05274215, 0.3587591 , 0.0832376 , 0.71970925,\n",
       "        0.37630153],\n",
       "       [0.86284967, 0.96401434, 0.7855212 , 0.96851208, 0.0980467 ,\n",
       "        0.08472455],\n",
       "       [0.2096114 , 0.75118304, 0.5050264 , 0.95030839, 0.43154751,\n",
       "        0.9624984 ]])"
      ]
     },
     "execution_count": 18,
     "metadata": {},
     "output_type": "execute_result"
    }
   ],
   "source": [
    "# np.set_printoptions(formatter = None)   used to reformate the matrix output to original form\n",
    "matrix"
   ]
  },
  {
   "cell_type": "markdown",
   "id": "b8e52ffd-23e0-438b-bc27-12bae9db8ddb",
   "metadata": {},
   "source": [
    "# turning array into dataFrame"
   ]
  },
  {
   "cell_type": "code",
   "execution_count": 19,
   "id": "7a240672-4fd0-4c5d-a92a-cf999df2795d",
   "metadata": {
    "collapsed": true,
    "jupyter": {
     "outputs_hidden": true
    }
   },
   "outputs": [],
   "source": [
    "import pandas as pd"
   ]
  },
  {
   "cell_type": "code",
   "execution_count": 26,
   "id": "c2a205e6-c980-4256-a87e-1fd94194471a",
   "metadata": {
    "collapsed": true,
    "jupyter": {
     "outputs_hidden": true
    }
   },
   "outputs": [],
   "source": [
    "# convert to dataframe\n",
    "data = pd.DataFrame(matrix)"
   ]
  },
  {
   "cell_type": "code",
   "execution_count": 25,
   "id": "67f2c4ec-9cfa-4836-8007-dd2f3e5ab0f1",
   "metadata": {
    "collapsed": true,
    "jupyter": {
     "outputs_hidden": true
    }
   },
   "outputs": [
    {
     "data": {
      "text/html": [
       "<div>\n",
       "<style scoped>\n",
       "    .dataframe tbody tr th:only-of-type {\n",
       "        vertical-align: middle;\n",
       "    }\n",
       "\n",
       "    .dataframe tbody tr th {\n",
       "        vertical-align: top;\n",
       "    }\n",
       "\n",
       "    .dataframe thead th {\n",
       "        text-align: right;\n",
       "    }\n",
       "</style>\n",
       "<table border=\"1\" class=\"dataframe\">\n",
       "  <thead>\n",
       "    <tr style=\"text-align: right;\">\n",
       "      <th></th>\n",
       "      <th>0</th>\n",
       "      <th>1</th>\n",
       "      <th>2</th>\n",
       "      <th>3</th>\n",
       "      <th>4</th>\n",
       "      <th>5</th>\n",
       "    </tr>\n",
       "  </thead>\n",
       "  <tbody>\n",
       "    <tr>\n",
       "      <th>0</th>\n",
       "      <td>0.787996</td>\n",
       "      <td>0.284039</td>\n",
       "      <td>0.314334</td>\n",
       "      <td>0.379316</td>\n",
       "      <td>0.565505</td>\n",
       "      <td>0.624505</td>\n",
       "    </tr>\n",
       "    <tr>\n",
       "      <th>1</th>\n",
       "      <td>0.318143</td>\n",
       "      <td>0.584658</td>\n",
       "      <td>0.894332</td>\n",
       "      <td>0.760176</td>\n",
       "      <td>0.652618</td>\n",
       "      <td>0.603260</td>\n",
       "    </tr>\n",
       "    <tr>\n",
       "      <th>2</th>\n",
       "      <td>0.960712</td>\n",
       "      <td>0.052742</td>\n",
       "      <td>0.358759</td>\n",
       "      <td>0.083238</td>\n",
       "      <td>0.719709</td>\n",
       "      <td>0.376302</td>\n",
       "    </tr>\n",
       "    <tr>\n",
       "      <th>3</th>\n",
       "      <td>0.862850</td>\n",
       "      <td>0.964014</td>\n",
       "      <td>0.785521</td>\n",
       "      <td>0.968512</td>\n",
       "      <td>0.098047</td>\n",
       "      <td>0.084725</td>\n",
       "    </tr>\n",
       "    <tr>\n",
       "      <th>4</th>\n",
       "      <td>0.209611</td>\n",
       "      <td>0.751183</td>\n",
       "      <td>0.505026</td>\n",
       "      <td>0.950308</td>\n",
       "      <td>0.431548</td>\n",
       "      <td>0.962498</td>\n",
       "    </tr>\n",
       "  </tbody>\n",
       "</table>\n",
       "</div>"
      ],
      "text/plain": [
       "          0         1         2         3         4         5\n",
       "0  0.787996  0.284039  0.314334  0.379316  0.565505  0.624505\n",
       "1  0.318143  0.584658  0.894332  0.760176  0.652618  0.603260\n",
       "2  0.960712  0.052742  0.358759  0.083238  0.719709  0.376302\n",
       "3  0.862850  0.964014  0.785521  0.968512  0.098047  0.084725\n",
       "4  0.209611  0.751183  0.505026  0.950308  0.431548  0.962498"
      ]
     },
     "execution_count": 25,
     "metadata": {},
     "output_type": "execute_result"
    }
   ],
   "source": [
    "data"
   ]
  },
  {
   "cell_type": "code",
   "execution_count": null,
   "id": "fc8986f4-aee4-47b5-9d48-2705757d2b7e",
   "metadata": {
    "collapsed": true,
    "jupyter": {
     "outputs_hidden": true
    }
   },
   "outputs": [],
   "source": []
  }
 ],
 "metadata": {
  "kernelspec": {
   "display_name": "ML1",
   "language": "python",
   "name": "venv"
  },
  "language_info": {
   "codemirror_mode": {
    "name": "ipython",
    "version": 3
   },
   "file_extension": ".py",
   "mimetype": "text/x-python",
   "name": "python",
   "nbconvert_exporter": "python",
   "pygments_lexer": "ipython3",
   "version": "3.13.5"
  }
 },
 "nbformat": 4,
 "nbformat_minor": 5
}
