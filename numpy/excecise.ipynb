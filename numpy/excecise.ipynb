{
 "cells": [
  {
   "cell_type": "markdown",
   "id": "16c594b1-4a87-4f8f-a055-c7fe35803c52",
   "metadata": {},
   "source": [
    "**first of all we would take a raw matrix showing the item sales through the weekdays(monday to friday), then we would take a 1D array at the bottom of**\n",
    "**the matrix showing price of each item, finally we would calculate the total revenvue generated for all weekdays of all the item sales**"
   ]
  },
  {
   "cell_type": "code",
   "execution_count": 1,
   "id": "22ee8119-0bc3-400a-9899-4a431e0c426e",
   "metadata": {},
   "outputs": [],
   "source": [
    "import numpy as np"
   ]
  },
  {
   "cell_type": "code",
   "execution_count": 2,
   "id": "b90f57af-d74d-422c-b23b-105d40ed5b96",
   "metadata": {},
   "outputs": [],
   "source": [
    "np.random.seed(0)\n",
    "item_sales = np.random.randint(3,10,size=(5,3))"
   ]
  },
  {
   "cell_type": "code",
   "execution_count": 3,
   "id": "3bd189fc-bf07-4516-9d9e-e18b85e60c97",
   "metadata": {},
   "outputs": [
    {
     "data": {
      "text/plain": [
       "array([[7, 8, 3],\n",
       "       [6, 6, 6],\n",
       "       [4, 6, 8],\n",
       "       [5, 7, 9],\n",
       "       [3, 3, 7]], dtype=int32)"
      ]
     },
     "execution_count": 3,
     "metadata": {},
     "output_type": "execute_result"
    }
   ],
   "source": [
    "item_sales"
   ]
  },
  {
   "cell_type": "markdown",
   "id": "d3581451-60f1-4204-996e-20e1cd8e59c6",
   "metadata": {},
   "source": [
    "**now we would take random price sale for each item during the 5 days**"
   ]
  },
  {
   "cell_type": "code",
   "execution_count": 4,
   "id": "cdae894e-a25d-4c27-9dc0-872f14b55504",
   "metadata": {},
   "outputs": [],
   "source": [
    "price_usd = np.array([21,19,15])"
   ]
  },
  {
   "cell_type": "markdown",
   "id": "c529a867-a116-44df-b4dc-ff0c7f5ce05c",
   "metadata": {},
   "source": [
    "**task is that we want to calculate the price of each day for all items**"
   ]
  },
  {
   "cell_type": "markdown",
   "id": "0ac350ee-f3e4-411a-94da-906eb6f1d678",
   "metadata": {},
   "source": [
    "**task1: turn price_usd into a dataframe**"
   ]
  },
  {
   "cell_type": "code",
   "execution_count": 5,
   "id": "4eeacf6e-a112-4583-9e1f-66470ac2a74b",
   "metadata": {},
   "outputs": [],
   "source": [
    "import pandas as pd"
   ]
  },
  {
   "cell_type": "code",
   "execution_count": 6,
   "id": "4e433aa3-1def-4ea2-8d7d-726acc0209e7",
   "metadata": {},
   "outputs": [],
   "source": [
    "price_usd_df = pd.DataFrame(price_usd.reshape(1,3), index= ['item_price'],columns = ['item1','item2','item3'])"
   ]
  },
  {
   "cell_type": "code",
   "execution_count": 7,
   "id": "e4f57847-ec79-489b-83be-3abf255bc823",
   "metadata": {},
   "outputs": [
    {
     "data": {
      "text/html": [
       "<div>\n",
       "<style scoped>\n",
       "    .dataframe tbody tr th:only-of-type {\n",
       "        vertical-align: middle;\n",
       "    }\n",
       "\n",
       "    .dataframe tbody tr th {\n",
       "        vertical-align: top;\n",
       "    }\n",
       "\n",
       "    .dataframe thead th {\n",
       "        text-align: right;\n",
       "    }\n",
       "</style>\n",
       "<table border=\"1\" class=\"dataframe\">\n",
       "  <thead>\n",
       "    <tr style=\"text-align: right;\">\n",
       "      <th></th>\n",
       "      <th>item1</th>\n",
       "      <th>item2</th>\n",
       "      <th>item3</th>\n",
       "    </tr>\n",
       "  </thead>\n",
       "  <tbody>\n",
       "    <tr>\n",
       "      <th>item_price</th>\n",
       "      <td>21</td>\n",
       "      <td>19</td>\n",
       "      <td>15</td>\n",
       "    </tr>\n",
       "  </tbody>\n",
       "</table>\n",
       "</div>"
      ],
      "text/plain": [
       "            item1  item2  item3\n",
       "item_price     21     19     15"
      ]
     },
     "execution_count": 7,
     "metadata": {},
     "output_type": "execute_result"
    }
   ],
   "source": [
    "price_usd_df"
   ]
  },
  {
   "cell_type": "markdown",
   "id": "215a4662-84eb-4f58-8cce-bad8086e250b",
   "metadata": {},
   "source": [
    "**calculating total price for each day of the week**"
   ]
  },
  {
   "cell_type": "code",
   "execution_count": 8,
   "id": "b8893c3b-96e4-4e3e-87cf-adcce21634f7",
   "metadata": {},
   "outputs": [],
   "source": [
    "total_sales = price_usd_df.dot(item_sales.T)"
   ]
  },
  {
   "cell_type": "code",
   "execution_count": null,
   "id": "75f7221a-3659-4842-8bde-f8a3ec6e3167",
   "metadata": {},
   "outputs": [],
   "source": []
  },
  {
   "cell_type": "code",
   "execution_count": 27,
   "id": "debb1e50-fc7c-4025-a578-8c009ff0844a",
   "metadata": {},
   "outputs": [],
   "source": [
    "total = pd.DataFrame(total_sales.T,index=['mon','tue','wed','thu','fri'],columns = ['item_sales'])"
   ]
  },
  {
   "cell_type": "code",
   "execution_count": 28,
   "id": "870db4dd-8e1a-4de2-97de-74d2a99143cc",
   "metadata": {},
   "outputs": [
    {
     "data": {
      "text/html": [
       "<div>\n",
       "<style scoped>\n",
       "    .dataframe tbody tr th:only-of-type {\n",
       "        vertical-align: middle;\n",
       "    }\n",
       "\n",
       "    .dataframe tbody tr th {\n",
       "        vertical-align: top;\n",
       "    }\n",
       "\n",
       "    .dataframe thead th {\n",
       "        text-align: right;\n",
       "    }\n",
       "</style>\n",
       "<table border=\"1\" class=\"dataframe\">\n",
       "  <thead>\n",
       "    <tr style=\"text-align: right;\">\n",
       "      <th></th>\n",
       "      <th>item_sales</th>\n",
       "    </tr>\n",
       "  </thead>\n",
       "  <tbody>\n",
       "    <tr>\n",
       "      <th>mon</th>\n",
       "      <td>NaN</td>\n",
       "    </tr>\n",
       "    <tr>\n",
       "      <th>tue</th>\n",
       "      <td>NaN</td>\n",
       "    </tr>\n",
       "    <tr>\n",
       "      <th>wed</th>\n",
       "      <td>NaN</td>\n",
       "    </tr>\n",
       "    <tr>\n",
       "      <th>thu</th>\n",
       "      <td>NaN</td>\n",
       "    </tr>\n",
       "    <tr>\n",
       "      <th>fri</th>\n",
       "      <td>NaN</td>\n",
       "    </tr>\n",
       "  </tbody>\n",
       "</table>\n",
       "</div>"
      ],
      "text/plain": [
       "     item_sales\n",
       "mon         NaN\n",
       "tue         NaN\n",
       "wed         NaN\n",
       "thu         NaN\n",
       "fri         NaN"
      ]
     },
     "execution_count": 28,
     "metadata": {},
     "output_type": "execute_result"
    }
   ],
   "source": [
    "total_price"
   ]
  },
  {
   "cell_type": "markdown",
   "id": "b3444599-fc7e-42dd-a82b-b9db58a96bf4",
   "metadata": {},
   "source": [
    "**lets turn the item_sales into a dataframe with labels**"
   ]
  },
  {
   "cell_type": "code",
   "execution_count": 29,
   "id": "9eb7c7cd-08a7-4a53-9850-217faeac1b19",
   "metadata": {},
   "outputs": [],
   "source": [
    "weekly_sales = pd.DataFrame(item_sales, columns=['item1','item2','item3'],index=['mon','tue','wed','thu','fri'])"
   ]
  },
  {
   "cell_type": "code",
   "execution_count": 30,
   "id": "8cdc9b01-b9d4-41f5-aefc-050dc021d18b",
   "metadata": {},
   "outputs": [
    {
     "data": {
      "text/html": [
       "<div>\n",
       "<style scoped>\n",
       "    .dataframe tbody tr th:only-of-type {\n",
       "        vertical-align: middle;\n",
       "    }\n",
       "\n",
       "    .dataframe tbody tr th {\n",
       "        vertical-align: top;\n",
       "    }\n",
       "\n",
       "    .dataframe thead th {\n",
       "        text-align: right;\n",
       "    }\n",
       "</style>\n",
       "<table border=\"1\" class=\"dataframe\">\n",
       "  <thead>\n",
       "    <tr style=\"text-align: right;\">\n",
       "      <th></th>\n",
       "      <th>item1</th>\n",
       "      <th>item2</th>\n",
       "      <th>item3</th>\n",
       "    </tr>\n",
       "  </thead>\n",
       "  <tbody>\n",
       "    <tr>\n",
       "      <th>mon</th>\n",
       "      <td>7</td>\n",
       "      <td>8</td>\n",
       "      <td>3</td>\n",
       "    </tr>\n",
       "    <tr>\n",
       "      <th>tue</th>\n",
       "      <td>6</td>\n",
       "      <td>6</td>\n",
       "      <td>6</td>\n",
       "    </tr>\n",
       "    <tr>\n",
       "      <th>wed</th>\n",
       "      <td>4</td>\n",
       "      <td>6</td>\n",
       "      <td>8</td>\n",
       "    </tr>\n",
       "    <tr>\n",
       "      <th>thu</th>\n",
       "      <td>5</td>\n",
       "      <td>7</td>\n",
       "      <td>9</td>\n",
       "    </tr>\n",
       "    <tr>\n",
       "      <th>fri</th>\n",
       "      <td>3</td>\n",
       "      <td>3</td>\n",
       "      <td>7</td>\n",
       "    </tr>\n",
       "  </tbody>\n",
       "</table>\n",
       "</div>"
      ],
      "text/plain": [
       "     item1  item2  item3\n",
       "mon      7      8      3\n",
       "tue      6      6      6\n",
       "wed      4      6      8\n",
       "thu      5      7      9\n",
       "fri      3      3      7"
      ]
     },
     "execution_count": 30,
     "metadata": {},
     "output_type": "execute_result"
    }
   ],
   "source": [
    "weekly_sales"
   ]
  },
  {
   "cell_type": "code",
   "execution_count": null,
   "id": "1b086eff-0429-4f51-8b75-936a620098fc",
   "metadata": {},
   "outputs": [],
   "source": []
  },
  {
   "cell_type": "code",
   "execution_count": null,
   "id": "1711bebb-de62-4b68-bf18-ee9026e3f716",
   "metadata": {},
   "outputs": [],
   "source": []
  },
  {
   "cell_type": "code",
   "execution_count": null,
   "id": "687c26a1-994c-4359-8859-040bdad542f1",
   "metadata": {},
   "outputs": [],
   "source": []
  },
  {
   "cell_type": "code",
   "execution_count": null,
   "id": "d9dd4cf5-4a01-4ecd-aae2-c83b9008f912",
   "metadata": {},
   "outputs": [],
   "source": []
  }
 ],
 "metadata": {
  "kernelspec": {
   "display_name": "ML1",
   "language": "python",
   "name": "venv"
  },
  "language_info": {
   "codemirror_mode": {
    "name": "ipython",
    "version": 3
   },
   "file_extension": ".py",
   "mimetype": "text/x-python",
   "name": "python",
   "nbconvert_exporter": "python",
   "pygments_lexer": "ipython3",
   "version": "3.13.5"
  }
 },
 "nbformat": 4,
 "nbformat_minor": 5
}
