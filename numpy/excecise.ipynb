{
 "cells": [
  {
   "cell_type": "markdown",
   "id": "16c594b1-4a87-4f8f-a055-c7fe35803c52",
   "metadata": {},
   "source": [
    "**first of all we would take a raw matrix showing the item sales through the weekdays(monday to friday), then we would take a 1D array at the bottom of**\n",
    "**the matrix showing price of each item, finally we would calculate the total revenvue generated for all weekdays of all the item sales**"
   ]
  },
  {
   "cell_type": "code",
   "execution_count": 1,
   "id": "22ee8119-0bc3-400a-9899-4a431e0c426e",
   "metadata": {},
   "outputs": [],
   "source": [
    "import numpy as np"
   ]
  },
  {
   "cell_type": "code",
   "execution_count": 2,
   "id": "b90f57af-d74d-422c-b23b-105d40ed5b96",
   "metadata": {},
   "outputs": [],
   "source": [
    "np.random.seed(0)\n",
    "item_sales = np.random.randint(3,10,size=(5,3))"
   ]
  },
  {
   "cell_type": "code",
   "execution_count": 4,
   "id": "3bd189fc-bf07-4516-9d9e-e18b85e60c97",
   "metadata": {},
   "outputs": [
    {
     "data": {
      "text/plain": [
       "array([[7, 8, 3],\n",
       "       [6, 6, 6],\n",
       "       [4, 6, 8],\n",
       "       [5, 7, 9],\n",
       "       [3, 3, 7]], dtype=int32)"
      ]
     },
     "execution_count": 4,
     "metadata": {},
     "output_type": "execute_result"
    }
   ],
   "source": [
    "item_sales"
   ]
  },
  {
   "cell_type": "markdown",
   "id": "d3581451-60f1-4204-996e-20e1cd8e59c6",
   "metadata": {},
   "source": [
    "**now we would take random price sale for each item during the 5 days**"
   ]
  },
  {
   "cell_type": "code",
   "execution_count": 5,
   "id": "cdae894e-a25d-4c27-9dc0-872f14b55504",
   "metadata": {},
   "outputs": [],
   "source": [
    "price_usd = np.array([21,19,15])"
   ]
  },
  {
   "cell_type": "markdown",
   "id": "c529a867-a116-44df-b4dc-ff0c7f5ce05c",
   "metadata": {},
   "source": [
    "**task is that we want to calculate the price of each day for all items**"
   ]
  },
  {
   "cell_type": "markdown",
   "id": "0ac350ee-f3e4-411a-94da-906eb6f1d678",
   "metadata": {},
   "source": [
    "**task1: turn price_usd into a dataframe**"
   ]
  },
  {
   "cell_type": "code",
   "execution_count": 18,
   "id": "4eeacf6e-a112-4583-9e1f-66470ac2a74b",
   "metadata": {},
   "outputs": [],
   "source": [
    "import pandas as pd"
   ]
  },
  {
   "cell_type": "code",
   "execution_count": 19,
   "id": "4e433aa3-1def-4ea2-8d7d-726acc0209e7",
   "metadata": {},
   "outputs": [],
   "source": [
    "price_usd_df = pd.DataFrame(price_usd.reshape(1,3), index= ['item_price'],columns = ['item1','item2','item3'])"
   ]
  },
  {
   "cell_type": "code",
   "execution_count": 20,
   "id": "e4f57847-ec79-489b-83be-3abf255bc823",
   "metadata": {},
   "outputs": [
    {
     "data": {
      "text/html": [
       "<div>\n",
       "<style scoped>\n",
       "    .dataframe tbody tr th:only-of-type {\n",
       "        vertical-align: middle;\n",
       "    }\n",
       "\n",
       "    .dataframe tbody tr th {\n",
       "        vertical-align: top;\n",
       "    }\n",
       "\n",
       "    .dataframe thead th {\n",
       "        text-align: right;\n",
       "    }\n",
       "</style>\n",
       "<table border=\"1\" class=\"dataframe\">\n",
       "  <thead>\n",
       "    <tr style=\"text-align: right;\">\n",
       "      <th></th>\n",
       "      <th>item1</th>\n",
       "      <th>item2</th>\n",
       "      <th>item3</th>\n",
       "    </tr>\n",
       "  </thead>\n",
       "  <tbody>\n",
       "    <tr>\n",
       "      <th>item_price</th>\n",
       "      <td>21</td>\n",
       "      <td>19</td>\n",
       "      <td>15</td>\n",
       "    </tr>\n",
       "  </tbody>\n",
       "</table>\n",
       "</div>"
      ],
      "text/plain": [
       "            item1  item2  item3\n",
       "item_price     21     19     15"
      ]
     },
     "execution_count": 20,
     "metadata": {},
     "output_type": "execute_result"
    }
   ],
   "source": [
    "price_usd_df"
   ]
  },
  {
   "cell_type": "code",
   "execution_count": null,
   "id": "f2f44c60-686a-4c12-a3ca-12d3c58761e6",
   "metadata": {},
   "outputs": [],
   "source": []
  }
 ],
 "metadata": {
  "kernelspec": {
   "display_name": "ML1",
   "language": "python",
   "name": "venv"
  },
  "language_info": {
   "codemirror_mode": {
    "name": "ipython",
    "version": 3
   },
   "file_extension": ".py",
   "mimetype": "text/x-python",
   "name": "python",
   "nbconvert_exporter": "python",
   "pygments_lexer": "ipython3",
   "version": "3.13.5"
  }
 },
 "nbformat": 4,
 "nbformat_minor": 5
}
