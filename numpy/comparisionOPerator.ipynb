{
 "cells": [
  {
   "cell_type": "code",
   "execution_count": 1,
   "id": "303ee8ea-e2a8-4ff7-acb6-195861bbefe2",
   "metadata": {},
   "outputs": [],
   "source": [
    "import numpy as np"
   ]
  },
  {
   "cell_type": "code",
   "execution_count": 2,
   "id": "215130df-4c29-4960-8126-b36dd1b2f148",
   "metadata": {},
   "outputs": [],
   "source": [
    "matrix1 = np.random.randint(7,size=(3,5))"
   ]
  },
  {
   "cell_type": "code",
   "execution_count": 3,
   "id": "db1782d0-19e0-4ec8-93d3-4b46e5420a7d",
   "metadata": {},
   "outputs": [
    {
     "data": {
      "text/plain": [
       "array([[4, 0, 3, 2, 6],\n",
       "       [5, 1, 2, 1, 3],\n",
       "       [5, 4, 1, 6, 5]], dtype=int32)"
      ]
     },
     "execution_count": 3,
     "metadata": {},
     "output_type": "execute_result"
    }
   ],
   "source": [
    "matrix1"
   ]
  },
  {
   "cell_type": "code",
   "execution_count": 4,
   "id": "9a74662e-486a-41a3-ad3a-26cb8266191a",
   "metadata": {},
   "outputs": [],
   "source": [
    "matrix2 = np.random.randint(9,size = (3,5))"
   ]
  },
  {
   "cell_type": "code",
   "execution_count": 5,
   "id": "33597610-350c-44ca-a811-8adb736567a9",
   "metadata": {},
   "outputs": [
    {
     "data": {
      "text/plain": [
       "array([[7, 8, 6, 4, 2],\n",
       "       [7, 4, 4, 2, 3],\n",
       "       [5, 2, 1, 3, 4]], dtype=int32)"
      ]
     },
     "execution_count": 5,
     "metadata": {},
     "output_type": "execute_result"
    }
   ],
   "source": [
    "matrix2"
   ]
  },
  {
   "cell_type": "markdown",
   "id": "ca11413b-ae93-43fb-bf6e-b0a8e9197325",
   "metadata": {},
   "source": [
    "**comparision operator**"
   ]
  },
  {
   "cell_type": "code",
   "execution_count": 6,
   "id": "b7e793cf-e980-486c-9297-3a2c98bd9e07",
   "metadata": {},
   "outputs": [
    {
     "data": {
      "text/plain": [
       "array([[False, False, False, False,  True],\n",
       "       [False, False, False, False, False],\n",
       "       [False,  True, False,  True,  True]])"
      ]
     },
     "execution_count": 6,
     "metadata": {},
     "output_type": "execute_result"
    }
   ],
   "source": [
    "# element wise comparision of two matrices\n",
    "matrix1>matrix2"
   ]
  },
  {
   "cell_type": "markdown",
   "id": "218baab3-5ee3-43e0-8f30-52ef1bf650d7",
   "metadata": {},
   "source": [
    "**sorting array**"
   ]
  },
  {
   "cell_type": "code",
   "execution_count": 8,
   "id": "5f4778f0-cd60-49fb-9533-b026bb421af2",
   "metadata": {},
   "outputs": [
    {
     "data": {
      "text/plain": [
       "array([[0, 2, 3, 4, 6],\n",
       "       [1, 1, 2, 3, 5],\n",
       "       [1, 4, 5, 5, 6]], dtype=int32)"
      ]
     },
     "execution_count": 8,
     "metadata": {},
     "output_type": "execute_result"
    }
   ],
   "source": [
    "np.sort(matrix1)"
   ]
  },
  {
   "cell_type": "markdown",
   "id": "07e106b3-0a82-4bf7-a263-4db475307745",
   "metadata": {},
   "source": [
    "**sorting by rows and columns**"
   ]
  },
  {
   "cell_type": "code",
   "execution_count": 9,
   "id": "07f2bdd7-24e2-421d-8505-ffcd72e134d5",
   "metadata": {},
   "outputs": [
    {
     "data": {
      "text/plain": [
       "array([[0, 2, 3, 4, 6],\n",
       "       [1, 1, 2, 3, 5],\n",
       "       [1, 4, 5, 5, 6]], dtype=int32)"
      ]
     },
     "execution_count": 9,
     "metadata": {},
     "output_type": "execute_result"
    }
   ],
   "source": [
    "np.sort(matrix1,axis = 1) #sorting by row, by default"
   ]
  },
  {
   "cell_type": "code",
   "execution_count": 11,
   "id": "1c5061ab-c7a4-4ffd-b984-7b72ba65f8a0",
   "metadata": {},
   "outputs": [
    {
     "data": {
      "text/plain": [
       "array([[4, 0, 1, 1, 3],\n",
       "       [5, 1, 2, 2, 5],\n",
       "       [5, 4, 3, 6, 6]], dtype=int32)"
      ]
     },
     "execution_count": 11,
     "metadata": {},
     "output_type": "execute_result"
    }
   ],
   "source": [
    "np.sort(matrix1,axis = 0) #sorting by column"
   ]
  },
  {
   "cell_type": "code",
   "execution_count": null,
   "id": "4163325c-ff34-48c5-a0f7-b935f9cafced",
   "metadata": {},
   "outputs": [],
   "source": []
  }
 ],
 "metadata": {
  "kernelspec": {
   "display_name": "ML1",
   "language": "python",
   "name": "venv"
  },
  "language_info": {
   "codemirror_mode": {
    "name": "ipython",
    "version": 3
   },
   "file_extension": ".py",
   "mimetype": "text/x-python",
   "name": "python",
   "nbconvert_exporter": "python",
   "pygments_lexer": "ipython3",
   "version": "3.13.5"
  }
 },
 "nbformat": 4,
 "nbformat_minor": 5
}
