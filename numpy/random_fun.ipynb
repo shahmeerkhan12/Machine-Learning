{
 "cells": [
  {
   "cell_type": "code",
   "execution_count": 1,
   "id": "f620c322-6dd8-4318-96fa-8a8cae9713be",
   "metadata": {},
   "outputs": [],
   "source": [
    "import numpy as np"
   ]
  },
  {
   "cell_type": "code",
   "execution_count": 12,
   "id": "9c6c14f9-b858-4e10-bac5-d16aadc59c70",
   "metadata": {},
   "outputs": [],
   "source": [
    "# TO AVOID CHANGING RESULTS WE SIMPLY DO THE FOLLOWING\n",
    "np.random.seed(0)\n",
    "# create a random matrix\n",
    "matrix = np.random.rand(3,3)"
   ]
  },
  {
   "cell_type": "code",
   "execution_count": 15,
   "id": "f61b8a87-a7c4-43dc-8025-6f62a5990ec5",
   "metadata": {},
   "outputs": [
    {
     "data": {
      "text/plain": [
       "array([[0.5488135 , 0.71518937, 0.60276338],\n",
       "       [0.54488318, 0.4236548 , 0.64589411],\n",
       "       [0.43758721, 0.891773  , 0.96366276]])"
      ]
     },
     "execution_count": 15,
     "metadata": {},
     "output_type": "execute_result"
    }
   ],
   "source": [
    "matrix"
   ]
  },
  {
   "cell_type": "code",
   "execution_count": 18,
   "id": "d8c50938-aaed-4ba3-817f-6aa2d487cf15",
   "metadata": {},
   "outputs": [
    {
     "data": {
      "text/plain": [
       "np.float64(5.7742213143196475)"
      ]
     },
     "execution_count": 18,
     "metadata": {},
     "output_type": "execute_result"
    }
   ],
   "source": [
    "matrix.sum() # the result is affected each time the np.random.rand() fun is executed TO AVOID THIS"
   ]
  },
  {
   "cell_type": "code",
   "execution_count": null,
   "id": "e267747e-b558-47a0-8ba0-dd82e0d08387",
   "metadata": {},
   "outputs": [],
   "source": []
  }
 ],
 "metadata": {
  "kernelspec": {
   "display_name": "ML1",
   "language": "python",
   "name": "venv"
  },
  "language_info": {
   "codemirror_mode": {
    "name": "ipython",
    "version": 3
   },
   "file_extension": ".py",
   "mimetype": "text/x-python",
   "name": "python",
   "nbconvert_exporter": "python",
   "pygments_lexer": "ipython3",
   "version": "3.13.5"
  }
 },
 "nbformat": 4,
 "nbformat_minor": 5
}
