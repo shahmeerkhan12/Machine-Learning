{
 "cells": [
  {
   "cell_type": "code",
   "execution_count": 1,
   "id": "d214f532-4a30-457c-85d6-a4ec74210acc",
   "metadata": {},
   "outputs": [],
   "source": [
    "import numpy as np"
   ]
  },
  {
   "cell_type": "code",
   "execution_count": 2,
   "id": "6a3e8acd-26bf-46ce-ba6f-1d5af4fd7020",
   "metadata": {},
   "outputs": [],
   "source": [
    "matrix = np.random.randint(10,size=(2,3,2))"
   ]
  },
  {
   "cell_type": "code",
   "execution_count": 3,
   "id": "1d9a0df3-98a5-464e-a2c2-c840b8400014",
   "metadata": {},
   "outputs": [
    {
     "data": {
      "text/plain": [
       "array([[[5, 5],\n",
       "        [2, 2],\n",
       "        [3, 5]],\n",
       "\n",
       "       [[4, 8],\n",
       "        [9, 3],\n",
       "        [6, 9]]], dtype=int32)"
      ]
     },
     "execution_count": 3,
     "metadata": {},
     "output_type": "execute_result"
    }
   ],
   "source": [
    "matrix"
   ]
  },
  {
   "cell_type": "code",
   "execution_count": 9,
   "id": "145809d4-6301-4849-ab94-3d8e50b57f63",
   "metadata": {},
   "outputs": [
    {
     "data": {
      "text/plain": [
       "array([[4, 8],\n",
       "       [9, 3],\n",
       "       [6, 9]], dtype=int32)"
      ]
     },
     "execution_count": 9,
     "metadata": {},
     "output_type": "execute_result"
    }
   ],
   "source": [
    "matrix[0] # access the first item of the 3D matrix which is a 2D matrix itself"
   ]
  },
  {
   "cell_type": "code",
   "execution_count": 10,
   "id": "58b02fa3-65be-4f4e-a962-5aced9bfd4ae",
   "metadata": {},
   "outputs": [
    {
     "data": {
      "text/plain": [
       "array([5, 5], dtype=int32)"
      ]
     },
     "execution_count": 10,
     "metadata": {},
     "output_type": "execute_result"
    }
   ],
   "source": [
    "matrix[0][0] # access the first row of the first 2D matrix inside a 3D matrix"
   ]
  },
  {
   "cell_type": "code",
   "execution_count": 11,
   "id": "26bde078-7fce-4c50-a3e2-d141d23309aa",
   "metadata": {},
   "outputs": [
    {
     "data": {
      "text/plain": [
       "np.int32(5)"
      ]
     },
     "execution_count": 11,
     "metadata": {},
     "output_type": "execute_result"
    }
   ],
   "source": [
    "matrix[0][0][0] # indvidual element of the 3D matrix"
   ]
  },
  {
   "cell_type": "markdown",
   "id": "10ca4e47-86d4-4499-aec4-8e30a5bcf5a2",
   "metadata": {},
   "source": [
    "# slicing"
   ]
  },
  {
   "cell_type": "code",
   "execution_count": 13,
   "id": "138a2b64-df8d-4661-ae4c-0c2f9415b9c5",
   "metadata": {},
   "outputs": [
    {
     "data": {
      "text/plain": [
       "array([[[5, 5],\n",
       "        [2, 2],\n",
       "        [3, 5]]], dtype=int32)"
      ]
     },
     "execution_count": 13,
     "metadata": {},
     "output_type": "execute_result"
    }
   ],
   "source": [
    "matrix[0:1] # or matrix[:2] is also fine"
   ]
  },
  {
   "cell_type": "code",
   "execution_count": 15,
   "id": "f8d4b19d-2d8a-4513-9b0c-8d095d2e5a3f",
   "metadata": {},
   "outputs": [
    {
     "data": {
      "text/plain": [
       "array([[[5, 5]],\n",
       "\n",
       "       [[4, 8]]], dtype=int32)"
      ]
     },
     "execution_count": 15,
     "metadata": {},
     "output_type": "execute_result"
    }
   ],
   "source": [
    "matrix[:2,:1] # the second arg :1 says that show me the first elements/rows of each of the two 2D matrix of the 3D matrix"
   ]
  },
  {
   "cell_type": "code",
   "execution_count": 16,
   "id": "f5b351d1-e87f-4d0d-98b8-aad7dcd0b668",
   "metadata": {},
   "outputs": [
    {
     "data": {
      "text/plain": [
       "array([[[5]],\n",
       "\n",
       "       [[4]]], dtype=int32)"
      ]
     },
     "execution_count": 16,
     "metadata": {},
     "output_type": "execute_result"
    }
   ],
   "source": [
    "matrix[:2,:1,:1] # the 3rd arg say 10 show only first column of the matrix"
   ]
  },
  {
   "cell_type": "code",
   "execution_count": null,
   "id": "55921576-f467-415e-9c7b-16938b556bdf",
   "metadata": {},
   "outputs": [],
   "source": []
  }
 ],
 "metadata": {
  "kernelspec": {
   "display_name": "ML1",
   "language": "python",
   "name": "venv"
  },
  "language_info": {
   "codemirror_mode": {
    "name": "ipython",
    "version": 3
   },
   "file_extension": ".py",
   "mimetype": "text/x-python",
   "name": "python",
   "nbconvert_exporter": "python",
   "pygments_lexer": "ipython3",
   "version": "3.13.5"
  }
 },
 "nbformat": 4,
 "nbformat_minor": 5
}
